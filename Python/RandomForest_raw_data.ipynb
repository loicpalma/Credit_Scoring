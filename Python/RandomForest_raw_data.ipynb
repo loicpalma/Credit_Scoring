{
 "cells": [
  {
   "cell_type": "code",
   "execution_count": 55,
   "metadata": {},
   "outputs": [],
   "source": [
    "import numpy as np \n",
    "import pandas as pd \n",
    "import matplotlib.pyplot as plt\n",
    "from datetime import date\n",
    "import seaborn as sns\n",
    "import random \n",
    "import plotly.offline as py\n",
    "import plotly.graph_objs as go\n",
    "import plotly.tools as tls\n",
    "import plotly.figure_factory as ff\n",
    "from pandas.plotting import table\n",
    "\n",
    "import warnings\n",
    "warnings.filterwarnings(\"ignore\")\n",
    "import itertools\n",
    "import scipy.stats as ss\n",
    "\n",
    "\n",
    "import xgboost as xgb\n",
    "\n",
    "from sklearn.metrics import mean_absolute_error\n",
    "from sklearn.metrics import r2_score\n",
    "from sklearn.metrics import mean_squared_error\n",
    "from math import sqrt\n",
    "\n",
    "import numpy as np \n",
    "import pandas as pd \n",
    "import matplotlib.pyplot as plt\n",
    "from sklearn import metrics\n",
    "\n",
    "from sklearn.preprocessing import LabelEncoder\n",
    "\n",
    "\n",
    "# Using Skicit-learn to split data into training and testing sets\n",
    "from sklearn.model_selection import train_test_split\n",
    "\n"
   ]
  },
  {
   "cell_type": "code",
   "execution_count": 56,
   "metadata": {},
   "outputs": [],
   "source": [
    "df_raw = pd.read_excel(\"df.xlsx\")\n",
    "df = df_raw.iloc[:,2:]"
   ]
  },
  {
   "cell_type": "code",
   "execution_count": 57,
   "metadata": {},
   "outputs": [],
   "source": [
    "df['CSP'] = df['CSP'].astype('category')\n",
    "df['ETAT_CIVIL'] = df['ETAT_CIVIL'].astype('category')\n",
    "df['IND_CLI_RNVA'] = df['IND_CLI_RNVA'].astype('category')\n",
    "df['QUAL_VEH'] = df['QUAL_VEH'].astype('category')\n",
    "df['imp_reg'] = df['imp_reg'].astype('category')\n",
    "df['ind_fch_fcc'] = df['ind_fch_fcc'].astype('category')\n",
    "df['imp_reg'] = df['imp_reg'].astype('category')\n",
    "df['produit'] = df['produit'].astype('category')\n",
    "df['proprio'] = df['proprio'].astype('category')\n",
    "df['secteur_'] = df['secteur_'].astype('category')\n",
    "df['ty_pp'] = df['ty_pp'].astype('category')"
   ]
  },
  {
   "cell_type": "code",
   "execution_count": 58,
   "metadata": {},
   "outputs": [
    {
     "name": "stdout",
     "output_type": "stream",
     "text": [
      "# of columns after one-hot encoding: 50\n"
     ]
    }
   ],
   "source": [
    "X, y = df.iloc[:,:-1],df.iloc[:,-1]\n",
    "one_hot_encoded_X = pd.get_dummies(X)\n",
    "print(\"# of columns after one-hot encoding: {0}\".format(len(one_hot_encoded_X.columns)))"
   ]
  },
  {
   "cell_type": "code",
   "execution_count": 59,
   "metadata": {},
   "outputs": [],
   "source": [
    "from sklearn.model_selection import train_test_split\n",
    "X_train, X_test, y_train, y_test = train_test_split(one_hot_encoded_X, y, test_size=0.25, random_state=1337)"
   ]
  },
  {
   "cell_type": "code",
   "execution_count": 60,
   "metadata": {},
   "outputs": [
    {
     "name": "stdout",
     "output_type": "stream",
     "text": [
      "Training Features Shape: (50064, 50)\n",
      "Training Target Shape: (50064,)\n",
      "Testing Features Shape: (16688, 50)\n",
      "Testing Target Shape: (16688,)\n"
     ]
    }
   ],
   "source": [
    "print('Training Features Shape:', X_train.shape)\n",
    "print('Training Target Shape:', y_train.shape)\n",
    "print('Testing Features Shape:', X_test.shape)\n",
    "print('Testing Target Shape:', y_test.shape)"
   ]
  },
  {
   "cell_type": "code",
   "execution_count": 19,
   "metadata": {},
   "outputs": [],
   "source": [
    "from sklearn.ensemble import RandomForestClassifier\n",
    "\n",
    "rf = RandomForestClassifier(n_jobs=2,\n",
    "                            random_state=0,\n",
    "                            criterion=\"gini\",\n",
    "                            bootstrap=True,\n",
    "                            max_features=13,\n",
    "                            min_samples_leaf=1,\n",
    "                            min_samples_split=2,\n",
    "                            n_estimators = 400)"
   ]
  },
  {
   "cell_type": "code",
   "execution_count": 20,
   "metadata": {},
   "outputs": [],
   "source": [
    "rf.fit(X_train,y_train)\n",
    "\n",
    "features = pd.get_dummies(df)\n",
    "# Remove the labels from the features\n",
    "# axis 1 refers to the columns\n",
    "features= features.drop('we18', axis = 1)\n",
    "# Saving feature names for later use\n",
    "feature_list = list(features.columns)\n",
    "# Convert to numpy array\n",
    "features = np.array(features)"
   ]
  },
  {
   "cell_type": "code",
   "execution_count": 21,
   "metadata": {},
   "outputs": [
    {
     "name": "stdout",
     "output_type": "stream",
     "text": [
      "Variable: AGE_VEH              Importance: 0.12\n",
      "Variable: DUREE                Importance: 0.11\n",
      "Variable: MT_DMD               Importance: 0.11\n",
      "Variable: MT_REV               Importance: 0.1\n",
      "Variable: mt_charges           Importance: 0.09\n",
      "Variable: PC_APPO              Importance: 0.05\n",
      "Variable: age                  Importance: 0.05\n",
      "Variable: anc_emp              Importance: 0.04\n",
      "Variable: copot_               Importance: 0.03\n",
      "Variable: fichage              Importance: 0.02\n",
      "Variable: part_loyer           Importance: 0.02\n",
      "Variable: pan_dir_             Importance: 0.01\n",
      "Variable: temps                Importance: 0.01\n",
      "Variable: CSP_0                Importance: 0.01\n",
      "Variable: CSP_11               Importance: 0.01\n",
      "Variable: CSP_12               Importance: 0.01\n",
      "Variable: CSP_13               Importance: 0.01\n",
      "Variable: CSP_99               Importance: 0.01\n",
      "Variable: ETAT_CIVIL_C         Importance: 0.01\n",
      "Variable: ETAT_CIVIL_D         Importance: 0.01\n",
      "Variable: ETAT_CIVIL_M         Importance: 0.01\n",
      "Variable: ETAT_CIVIL_S         Importance: 0.01\n",
      "Variable: ETAT_CIVIL_U         Importance: 0.01\n",
      "Variable: ETAT_CIVIL_V         Importance: 0.01\n",
      "Variable: IND_CLI_RNVA_N       Importance: 0.01\n",
      "Variable: IND_CLI_RNVA_O       Importance: 0.01\n",
      "Variable: QUAL_VEH_VN          Importance: 0.01\n",
      "Variable: QUAL_VEH_VO          Importance: 0.01\n",
      "Variable: genre_veh_VP         Importance: 0.01\n",
      "Variable: genre_veh_VU         Importance: 0.01\n",
      "Variable: imp_reg_NR           Importance: 0.01\n",
      "Variable: imp_reg_at_least_one_reg Importance: 0.01\n",
      "Variable: imp_reg_no_imp_reg   Importance: 0.0\n",
      "Variable: ind_fch_fcc_N        Importance: 0.0\n",
      "Variable: ind_fch_fcc_O        Importance: 0.0\n",
      "Variable: produit_CB           Importance: 0.0\n",
      "Variable: produit_CC           Importance: 0.0\n",
      "Variable: produit_LLD          Importance: 0.0\n",
      "Variable: proprio_no_proprio   Importance: 0.0\n",
      "Variable: proprio_proprio      Importance: 0.0\n",
      "Variable: secteur__AGR         Importance: 0.0\n",
      "Variable: secteur__ATR         Importance: 0.0\n",
      "Variable: secteur__BTP         Importance: 0.0\n",
      "Variable: secteur__C           Importance: 0.0\n",
      "Variable: secteur__EAE         Importance: 0.0\n",
      "Variable: secteur__HOP         Importance: 0.0\n",
      "Variable: secteur__SCE         Importance: 0.0\n",
      "Variable: secteur__TRA         Importance: 0.0\n",
      "Variable: ty_pp_PRI            Importance: 0.0\n",
      "Variable: ty_pp_PRO            Importance: 0.0\n"
     ]
    },
    {
     "data": {
      "image/png": "[encoded data removed]",
      "text/plain": [
       "<Figure size 432x288 with 1 Axes>"
      ]
     },
     "metadata": {},
     "output_type": "display_data"
    }
   ],
   "source": [
    "# Use the forest's predict method on the test data\n",
    "predictions = rf.predict(X_test)\n",
    "predictions_prob = rf.predict_proba(X_test)\n",
    "\n",
    "# Get numerical feature importances\n",
    "importances = sorted(list(rf.feature_importances_),reverse=True)\n",
    "# List of tuples with variable and importance\n",
    "feature_importances = [(feature, round(importance, 2)) for feature, importance in zip(feature_list, importances)]\n",
    "# Sort the feature importances by most important first\n",
    "feature_importances = sorted(feature_importances, key = lambda x: x[1], reverse = True)\n",
    "# Print out the feature and importances \n",
    "[print('Variable: {:20} Importance: {}'.format(*pair)) for pair in feature_importances];\n",
    "\n",
    "import matplotlib.pyplot as plt\n",
    "%matplotlib inline\n",
    "plt.style.use('fivethirtyeight')\n",
    "# list of x locations for plotting\n",
    "x_values = list(range(len(importances)))\n",
    "# Make a bar chart\n",
    "plt.bar(x_values[:13], importances[:13], orientation = 'vertical')\n",
    "# Tick labels for x axis\n",
    "plt.xticks(x_values[:13], feature_list[:13], rotation='vertical')\n",
    "# Axis labels and title\n",
    "plt.ylabel('Importance'); plt.xlabel('Variables'); plt.title('Variable Importance');"
   ]
  },
  {
   "cell_type": "code",
   "execution_count": 22,
   "metadata": {},
   "outputs": [],
   "source": [
    "ident = np.arange(0,16688,1)"
   ]
  },
  {
   "cell_type": "code",
   "execution_count": 23,
   "metadata": {},
   "outputs": [],
   "source": [
    "default_prob = np.column_stack((ident,predictions_prob[:,1]))\n",
    "default_prob = pd.DataFrame(default_prob)\n",
    "default_prob.rename(columns={1:'prob'}, inplace=True)\n",
    "default_prob.rename(columns={0:'key'}, inplace=True)"
   ]
  },
  {
   "cell_type": "code",
   "execution_count": 24,
   "metadata": {},
   "outputs": [],
   "source": [
    "real_prob = np.column_stack((ident,y_test))\n",
    "real_prob = pd.DataFrame(real_prob)\n",
    "real_prob.rename(columns={1:'true'}, inplace=True)\n",
    "real_prob.rename(columns={0:'key'}, inplace=True)"
   ]
  },
  {
   "cell_type": "code",
   "execution_count": 25,
   "metadata": {},
   "outputs": [],
   "source": [
    "merged = pd.merge(real_prob, default_prob, on=['key'])"
   ]
  },
  {
   "cell_type": "code",
   "execution_count": 26,
   "metadata": {},
   "outputs": [],
   "source": [
    "merged_sorted = merged.sort_values(by=[\"prob\"],ascending=False)"
   ]
  },
  {
   "cell_type": "code",
   "execution_count": 27,
   "metadata": {},
   "outputs": [],
   "source": [
    "length = len(predictions_prob[:,1])\n",
    "ten_prct = int(0.1*length)\n",
    "score = merged_sorted[0:ten_prct]"
   ]
  },
  {
   "cell_type": "code",
   "execution_count": 28,
   "metadata": {},
   "outputs": [
    {
     "data": {
      "text/plain": [
       "0.08693045563549161"
      ]
     },
     "execution_count": 28,
     "metadata": {},
     "output_type": "execute_result"
    }
   ],
   "source": [
    "indice_10 = score[\"true\"].value_counts(1)\n",
    "indice_10[1]"
   ]
  },
  {
   "cell_type": "code",
   "execution_count": 29,
   "metadata": {},
   "outputs": [
    {
     "name": "stdout",
     "output_type": "stream",
     "text": [
      "0.6078300612150334\n"
     ]
    }
   ],
   "source": [
    "from sklearn.metrics import roc_auc_score\n",
    "AUC = roc_auc_score(y_test, predictions_prob[:,1])\n",
    "Gini =2*AUC-1\n",
    "print(Gini)"
   ]
  },
  {
   "cell_type": "code",
   "execution_count": 61,
   "metadata": {},
   "outputs": [],
   "source": [
    "df_raw = pd.read_csv(\"subsample_df.csv\", encoding = \"ISO-8859-1\")"
   ]
  },
  {
   "cell_type": "code",
   "execution_count": 62,
   "metadata": {},
   "outputs": [],
   "source": [
    "del df_raw[\"no_cnt_crypte\"]\n",
    "del df_raw[\"no_par_crypte\"]\n",
    "del df_raw[\"date_gest\"]"
   ]
  },
  {
   "cell_type": "code",
   "execution_count": 63,
   "metadata": {},
   "outputs": [],
   "source": [
    "df = df_raw"
   ]
  },
  {
   "cell_type": "code",
   "execution_count": 64,
   "metadata": {},
   "outputs": [
    {
     "name": "stdout",
     "output_type": "stream",
     "text": [
      "<class 'pandas.core.frame.DataFrame'>\n",
      "RangeIndex: 11340 entries, 0 to 11339\n",
      "Data columns (total 20 columns):\n",
      "WE18            11340 non-null int64\n",
      "genre_veh       11340 non-null object\n",
      "produit         11340 non-null object\n",
      "QUAL_VEH        11340 non-null object\n",
      "IND_CLI_RNVA    11340 non-null object\n",
      "CSP             11340 non-null object\n",
      "ETAT_CIVIL      11340 non-null object\n",
      "MODE_HABI       11340 non-null object\n",
      "ind_fch_fcc     11340 non-null object\n",
      "copot_          11340 non-null object\n",
      "pan_dir_        11340 non-null object\n",
      "secteur_        11340 non-null object\n",
      "fichage         11340 non-null int64\n",
      "bdf_cote        11340 non-null int64\n",
      "duree_cl        11340 non-null int64\n",
      "pc_appo2        11340 non-null int64\n",
      "age2            11340 non-null int64\n",
      "mt_rev2         11340 non-null int64\n",
      "part_loyer2     11340 non-null int64\n",
      "anc_emp2        11340 non-null int64\n",
      "dtypes: int64(9), object(11)\n",
      "memory usage: 1.7+ MB\n"
     ]
    }
   ],
   "source": [
    "df.info()"
   ]
  },
  {
   "cell_type": "code",
   "execution_count": 65,
   "metadata": {},
   "outputs": [],
   "source": [
    "df['CSP'] = df['CSP'].astype('category')\n",
    "df['ETAT_CIVIL'] = df['ETAT_CIVIL'].astype('category')\n",
    "df['IND_CLI_RNVA'] = df['IND_CLI_RNVA'].astype('category')\n",
    "df['QUAL_VEH'] = df['QUAL_VEH'].astype('category')\n",
    "df['ind_fch_fcc'] = df['ind_fch_fcc'].astype('category')\n",
    "df['produit'] = df['produit'].astype('category')\n",
    "df['secteur_'] = df['secteur_'].astype('category')\n",
    "df['genre_veh'] = df['genre_veh'].astype('category')\n",
    "df['copot_'] = df['copot_'].astype('category')\n",
    "df['pan_dir_'] = df['pan_dir_'].astype('category')\n",
    "df['fichage'] = df['fichage'].astype('category')\n",
    "df['bdf_cote'] = df['bdf_cote'].astype('category')\n",
    "df['duree_cl'] = df['duree_cl'].astype('category')\n",
    "df['pc_appo2'] = df['pc_appo2'].astype('category')\n",
    "df['age2'] = df['age2'].astype('category')\n",
    "df['mt_rev2'] = df['mt_rev2'].astype('category')\n",
    "df['part_loyer2'] = df['part_loyer2'].astype('category')\n",
    "df['anc_emp2'] = df['anc_emp2'].astype('category')\n",
    "df['MODE_HABI'] = df['MODE_HABI'].astype('category')"
   ]
  },
  {
   "cell_type": "code",
   "execution_count": 66,
   "metadata": {},
   "outputs": [
    {
     "name": "stdout",
     "output_type": "stream",
     "text": [
      "# of columns after one-hot encoding: 55\n"
     ]
    }
   ],
   "source": [
    "X, y = df.iloc[:,1:],df.iloc[:,0]\n",
    "one_hot_encoded_X = pd.get_dummies(X)\n",
    "print(\"# of columns after one-hot encoding: {0}\".format(len(one_hot_encoded_X.columns)))"
   ]
  },
  {
   "cell_type": "code",
   "execution_count": 67,
   "metadata": {},
   "outputs": [],
   "source": [
    "from sklearn.model_selection import train_test_split\n",
    "X_train, X_test, y_train, y_test = train_test_split(one_hot_encoded_X, y, test_size=0.25, random_state=1337)"
   ]
  },
  {
   "cell_type": "code",
   "execution_count": 68,
   "metadata": {},
   "outputs": [
    {
     "name": "stdout",
     "output_type": "stream",
     "text": [
      "Training Features Shape: (8505, 55)\n",
      "Training Target Shape: (8505,)\n",
      "Testing Features Shape: (2835, 55)\n",
      "Testing Target Shape: (2835,)\n"
     ]
    }
   ],
   "source": [
    "print('Training Features Shape:', X_train.shape)\n",
    "print('Training Target Shape:', y_train.shape)\n",
    "print('Testing Features Shape:', X_test.shape)\n",
    "print('Testing Target Shape:', y_test.shape)"
   ]
  },
  {
   "cell_type": "code",
   "execution_count": 37,
   "metadata": {},
   "outputs": [],
   "source": [
    "from sklearn.ensemble import RandomForestClassifier\n",
    "\n",
    "rf = RandomForestClassifier(n_jobs=2,\n",
    "                            random_state=0,\n",
    "                            criterion=\"gini\",\n",
    "                            bootstrap=True,\n",
    "                            max_features=13,\n",
    "                            min_samples_leaf=1,\n",
    "                            min_samples_split=2,\n",
    "                            n_estimators = 400)"
   ]
  },
  {
   "cell_type": "code",
   "execution_count": 38,
   "metadata": {},
   "outputs": [],
   "source": [
    "rf.fit(X_train,y_train)\n",
    "\n",
    "features = pd.get_dummies(df)\n",
    "# Remove the labels from the features\n",
    "# axis 1 refers to the columns\n",
    "features= features.drop('WE18', axis = 1)\n",
    "# Saving feature names for later use\n",
    "feature_list = list(features.columns)\n",
    "# Convert to numpy array\n",
    "features = np.array(features)"
   ]
  },
  {
   "cell_type": "code",
   "execution_count": 39,
   "metadata": {
    "scrolled": true
   },
   "outputs": [
    {
     "name": "stdout",
     "output_type": "stream",
     "text": [
      "Variable: genre_veh_Véhicule particulier Importance: 0.04\n",
      "Variable: genre_veh_Véhicule utilitaire Importance: 0.03\n",
      "Variable: produit_Credit Classique Importance: 0.03\n",
      "Variable: produit_Crédit Bail  Importance: 0.03\n",
      "Variable: produit_Location Longue Durée Importance: 0.03\n",
      "Variable: QUAL_VEH_Véhicule d'occasion Importance: 0.03\n",
      "Variable: QUAL_VEH_Véhicule neuf Importance: 0.03\n",
      "Variable: IND_CLI_RNVA_Non     Importance: 0.03\n",
      "Variable: IND_CLI_RNVA_Oui     Importance: 0.03\n",
      "Variable: CSP_Agriculteurs     Importance: 0.03\n",
      "Variable: CSP_Artisans         Importance: 0.03\n",
      "Variable: CSP_Autres           Importance: 0.03\n",
      "Variable: CSP_Commerçants      Importance: 0.03\n",
      "Variable: CSP_Professions libérales Importance: 0.03\n",
      "Variable: ETAT_CIVIL_Marié     Importance: 0.03\n",
      "Variable: ETAT_CIVIL_Personne vivant seule Importance: 0.02\n",
      "Variable: MODE_HABI_Non Propriétaire Importance: 0.02\n",
      "Variable: MODE_HABI_Propriétaire Importance: 0.02\n",
      "Variable: ind_fch_fcc_Non      Importance: 0.02\n",
      "Variable: ind_fch_fcc_Oui      Importance: 0.02\n",
      "Variable: copot__Bon           Importance: 0.02\n",
      "Variable: copot__Mauvais       Importance: 0.02\n",
      "Variable: copot__Moyen         Importance: 0.02\n",
      "Variable: pan_dir__Bon         Importance: 0.02\n",
      "Variable: pan_dir__Mauvais     Importance: 0.02\n",
      "Variable: secteur__Agriculture Importance: 0.02\n",
      "Variable: secteur__Autres      Importance: 0.02\n",
      "Variable: secteur__Biens de consommation Importance: 0.02\n",
      "Variable: secteur__Bâtiment et Travaux public Importance: 0.02\n",
      "Variable: secteur__Commerce de détail Importance: 0.02\n",
      "Variable: secteur__Enseignement et Auto-école Importance: 0.02\n",
      "Variable: secteur__Hôpitaux    Importance: 0.02\n",
      "Variable: secteur__Hôtellerie, Restauration Importance: 0.02\n",
      "Variable: secteur__Services    Importance: 0.02\n",
      "Variable: secteur__Transport   Importance: 0.02\n",
      "Variable: fichage_0            Importance: 0.02\n",
      "Variable: fichage_1            Importance: 0.02\n",
      "Variable: bdf_cote_0           Importance: 0.01\n",
      "Variable: bdf_cote_1           Importance: 0.01\n",
      "Variable: duree_cl_1           Importance: 0.01\n",
      "Variable: duree_cl_2           Importance: 0.01\n",
      "Variable: pc_appo2_1           Importance: 0.01\n",
      "Variable: pc_appo2_2           Importance: 0.01\n",
      "Variable: pc_appo2_3           Importance: 0.01\n",
      "Variable: age2_1               Importance: 0.01\n",
      "Variable: age2_2               Importance: 0.01\n",
      "Variable: age2_3               Importance: 0.01\n",
      "Variable: mt_rev2_1            Importance: 0.01\n",
      "Variable: mt_rev2_2            Importance: 0.01\n",
      "Variable: part_loyer2_1        Importance: 0.01\n",
      "Variable: part_loyer2_2        Importance: 0.0\n",
      "Variable: part_loyer2_3        Importance: 0.0\n",
      "Variable: anc_emp2_1           Importance: 0.0\n",
      "Variable: anc_emp2_2           Importance: 0.0\n",
      "Variable: anc_emp2_3           Importance: 0.0\n"
     ]
    },
    {
     "data": {
      "image/png": "[encoded data removed]",
      "text/plain": [
       "<Figure size 432x288 with 1 Axes>"
      ]
     },
     "metadata": {},
     "output_type": "display_data"
    }
   ],
   "source": [
    "# Use the forest's predict method on the test data\n",
    "predictions = rf.predict(X_test)\n",
    "predictions_prob = rf.predict_proba(X_test)\n",
    "\n",
    "# Get numerical feature importances\n",
    "importances = sorted(list(rf.feature_importances_),reverse=True)\n",
    "# List of tuples with variable and importance\n",
    "feature_importances = [(feature, round(importance, 2)) for feature, importance in zip(feature_list, importances)]\n",
    "# Sort the feature importances by most important first\n",
    "feature_importances = sorted(feature_importances, key = lambda x: x[1], reverse = True)\n",
    "# Print out the feature and importances \n",
    "[print('Variable: {:20} Importance: {}'.format(*pair)) for pair in feature_importances];\n",
    "\n",
    "import matplotlib.pyplot as plt\n",
    "%matplotlib inline\n",
    "plt.style.use('fivethirtyeight')\n",
    "# list of x locations for plotting\n",
    "x_values = list(range(len(importances)))\n",
    "# Make a bar chart\n",
    "plt.bar(x_values[:13], importances[:13], orientation = 'vertical')\n",
    "# Tick labels for x axis\n",
    "plt.xticks(x_values[:13], feature_list[:13], rotation='vertical')\n",
    "# Axis labels and title\n",
    "plt.ylabel('Importance'); plt.xlabel('Variables'); plt.title('Variable Importance');"
   ]
  },
  {
   "cell_type": "code",
   "execution_count": 40,
   "metadata": {},
   "outputs": [
    {
     "data": {
      "text/plain": [
       "2835"
      ]
     },
     "execution_count": 40,
     "metadata": {},
     "output_type": "execute_result"
    }
   ],
   "source": [
    "len(predictions_prob)"
   ]
  },
  {
   "cell_type": "code",
   "execution_count": 41,
   "metadata": {
    "scrolled": true
   },
   "outputs": [
    {
     "name": "stdout",
     "output_type": "stream",
     "text": [
      "       key  true      prob\n",
      "2634  2634     1  0.990000\n",
      "895    895     1  0.987500\n",
      "119    119     1  0.981389\n",
      "1500  1500     1  0.981389\n",
      "1063  1063     1  0.980833\n",
      "...    ...   ...       ...\n",
      "1236  1236     1  0.413071\n",
      "2039  2039     0  0.412821\n",
      "2597  2597     0  0.411293\n",
      "2601  2601     1  0.411293\n",
      "2288  2288     0  0.411293\n",
      "\n",
      "[283 rows x 3 columns]\n"
     ]
    }
   ],
   "source": [
    "ident = np.arange(0,2835,1)\n",
    "\n",
    "default_prob = np.column_stack((ident,predictions_prob[:,1]))\n",
    "default_prob = pd.DataFrame(default_prob)\n",
    "default_prob.rename(columns={1:'prob'}, inplace=True)\n",
    "default_prob.rename(columns={0:'key'}, inplace=True)\n",
    "\n",
    "real_prob = np.column_stack((ident,y_test))\n",
    "real_prob = pd.DataFrame(real_prob)\n",
    "real_prob.rename(columns={1:'true'}, inplace=True)\n",
    "real_prob.rename(columns={0:'key'}, inplace=True)\n",
    "\n",
    "merged = pd.merge(real_prob, default_prob, on=['key'])\n",
    "\n",
    "merged_sorted = merged.sort_values(by=[\"prob\"],ascending=False)\n",
    "\n",
    "length = len(predictions_prob[:,1])\n",
    "ten_prct = int(0.1*length)\n",
    "score = merged_sorted[0:ten_prct]\n",
    "\n",
    "print(score)"
   ]
  },
  {
   "cell_type": "code",
   "execution_count": 42,
   "metadata": {},
   "outputs": [
    {
     "data": {
      "text/plain": [
       "0.6113074204946997"
      ]
     },
     "execution_count": 42,
     "metadata": {},
     "output_type": "execute_result"
    }
   ],
   "source": [
    "indice_10 = score[\"true\"].value_counts(1)\n",
    "indice_10[1]"
   ]
  },
  {
   "cell_type": "code",
   "execution_count": 313,
   "metadata": {},
   "outputs": [
    {
     "name": "stdout",
     "output_type": "stream",
     "text": [
      "0.6749302339923631\n"
     ]
    }
   ],
   "source": [
    "from sklearn.metrics import roc_auc_score\n",
    "AUC = roc_auc_score(y_test, predictions_prob[:,1])\n",
    "Gini =2*AUC-1\n",
    "print(Gini)"
   ]
  },
  {
   "cell_type": "code",
   "execution_count": 69,
   "metadata": {},
   "outputs": [],
   "source": [
    "df_raw = pd.read_csv(\"df_smote.csv\", encoding = \"ISO-8859-1\")\n",
    "del df_raw[\"Unnamed: 0\"]"
   ]
  },
  {
   "cell_type": "code",
   "execution_count": 70,
   "metadata": {},
   "outputs": [],
   "source": [
    "df = df_raw"
   ]
  },
  {
   "cell_type": "code",
   "execution_count": 71,
   "metadata": {},
   "outputs": [],
   "source": [
    "df['CSP'] = df['CSP'].astype('category')\n",
    "df['ETAT_CIVIL'] = df['ETAT_CIVIL'].astype('category')\n",
    "df['IND_CLI_RNVA'] = df['IND_CLI_RNVA'].astype('category')\n",
    "df['QUAL_VEH'] = df['QUAL_VEH'].astype('category')\n",
    "df['ind_fch_fcc'] = df['ind_fch_fcc'].astype('category')\n",
    "df['produit'] = df['produit'].astype('category')\n",
    "df['secteur_'] = df['secteur_'].astype('category')\n",
    "df['genre_veh'] = df['genre_veh'].astype('category')\n",
    "df['copot_'] = df['copot_'].astype('category')\n",
    "df['pan_dir_'] = df['pan_dir_'].astype('category')\n",
    "df['fichage'] = df['fichage'].astype('category')\n",
    "df['bdf_cote'] = df['bdf_cote'].astype('category')\n",
    "df['duree_cl'] = df['duree_cl'].astype('category')\n",
    "df['pc_appo2'] = df['pc_appo2'].astype('category')\n",
    "df['age2'] = df['age2'].astype('category')\n",
    "df['mt_rev2'] = df['mt_rev2'].astype('category')\n",
    "df['part_loyer2'] = df['part_loyer2'].astype('category')\n",
    "df['anc_emp2'] = df['anc_emp2'].astype('category')\n",
    "df['MODE_HABI'] = df['MODE_HABI'].astype('category')"
   ]
  },
  {
   "cell_type": "code",
   "execution_count": 72,
   "metadata": {},
   "outputs": [
    {
     "name": "stdout",
     "output_type": "stream",
     "text": [
      "# of columns after one-hot encoding: 55\n"
     ]
    }
   ],
   "source": [
    "X, y = df.iloc[:,1:],df.iloc[:,0]\n",
    "one_hot_encoded_X = pd.get_dummies(X)\n",
    "print(\"# of columns after one-hot encoding: {0}\".format(len(one_hot_encoded_X.columns)))"
   ]
  },
  {
   "cell_type": "code",
   "execution_count": 73,
   "metadata": {},
   "outputs": [],
   "source": [
    "from sklearn.model_selection import train_test_split\n",
    "X_train, X_test, y_train, y_test = train_test_split(one_hot_encoded_X, y, test_size=0.25, random_state=1337)"
   ]
  },
  {
   "cell_type": "code",
   "execution_count": 74,
   "metadata": {},
   "outputs": [
    {
     "name": "stdout",
     "output_type": "stream",
     "text": [
      "Training Features Shape: (38745, 55)\n",
      "Training Target Shape: (38745,)\n",
      "Testing Features Shape: (12915, 55)\n",
      "Testing Target Shape: (12915,)\n"
     ]
    }
   ],
   "source": [
    "print('Training Features Shape:', X_train.shape)\n",
    "print('Training Target Shape:', y_train.shape)\n",
    "print('Testing Features Shape:', X_test.shape)\n",
    "print('Testing Target Shape:', y_test.shape)"
   ]
  },
  {
   "cell_type": "code",
   "execution_count": 48,
   "metadata": {},
   "outputs": [],
   "source": [
    "from sklearn.ensemble import RandomForestClassifier\n",
    "\n",
    "rf = RandomForestClassifier(n_jobs=2,\n",
    "                            random_state=0,\n",
    "                            criterion=\"gini\",\n",
    "                            bootstrap=True,\n",
    "                            max_features=13,\n",
    "                            min_samples_leaf=1,\n",
    "                            min_samples_split=2,\n",
    "                            n_estimators = 400)"
   ]
  },
  {
   "cell_type": "code",
   "execution_count": 49,
   "metadata": {},
   "outputs": [],
   "source": [
    "rf.fit(X_train,y_train)\n",
    "\n",
    "features = pd.get_dummies(df)\n",
    "# Remove the labels from the features\n",
    "# axis 1 refers to the columns\n",
    "features= features.drop('WE18', axis = 1)\n",
    "# Saving feature names for later use\n",
    "feature_list = list(features.columns)\n",
    "# Convert to numpy array\n",
    "features = np.array(features)"
   ]
  },
  {
   "cell_type": "code",
   "execution_count": 50,
   "metadata": {},
   "outputs": [
    {
     "name": "stdout",
     "output_type": "stream",
     "text": [
      "Variable: genre_veh_Véhicule particulier Importance: 0.11\n",
      "Variable: genre_veh_Véhicule utilitaire Importance: 0.05\n",
      "Variable: produit_Credit Classique Importance: 0.04\n",
      "Variable: produit_Crédit Bail  Importance: 0.03\n",
      "Variable: produit_Location Longue Durée Importance: 0.03\n",
      "Variable: QUAL_VEH_Véhicule d'occasion Importance: 0.03\n",
      "Variable: QUAL_VEH_Véhicule neuf Importance: 0.03\n",
      "Variable: IND_CLI_RNVA_Non     Importance: 0.03\n",
      "Variable: IND_CLI_RNVA_Oui     Importance: 0.03\n",
      "Variable: CSP_Agriculteurs     Importance: 0.02\n",
      "Variable: CSP_Artisans         Importance: 0.02\n",
      "Variable: CSP_Autres           Importance: 0.02\n",
      "Variable: CSP_Commerçants      Importance: 0.02\n",
      "Variable: CSP_Professions libérales Importance: 0.02\n",
      "Variable: ETAT_CIVIL_Marié     Importance: 0.02\n",
      "Variable: ETAT_CIVIL_Personne vivant seule Importance: 0.02\n",
      "Variable: MODE_HABI_Non Propriétaire Importance: 0.02\n",
      "Variable: MODE_HABI_Propriétaire Importance: 0.02\n",
      "Variable: ind_fch_fcc_Non      Importance: 0.02\n",
      "Variable: ind_fch_fcc_Oui      Importance: 0.02\n",
      "Variable: copot__Bon           Importance: 0.02\n",
      "Variable: copot__Mauvais       Importance: 0.02\n",
      "Variable: copot__Moyen         Importance: 0.02\n",
      "Variable: pan_dir__Bon         Importance: 0.02\n",
      "Variable: pan_dir__Mauvais     Importance: 0.02\n",
      "Variable: secteur__Agriculture Importance: 0.02\n",
      "Variable: secteur__Autres      Importance: 0.02\n",
      "Variable: secteur__Biens de consommation Importance: 0.02\n",
      "Variable: secteur__Bâtiment et Travaux public Importance: 0.02\n",
      "Variable: secteur__Commerce de détail Importance: 0.02\n",
      "Variable: secteur__Enseignement et Auto-école Importance: 0.02\n",
      "Variable: secteur__Hôpitaux    Importance: 0.02\n",
      "Variable: secteur__Hôtellerie, Restauration Importance: 0.02\n",
      "Variable: secteur__Services    Importance: 0.01\n",
      "Variable: secteur__Transport   Importance: 0.01\n",
      "Variable: fichage_0            Importance: 0.01\n",
      "Variable: fichage_1            Importance: 0.01\n",
      "Variable: bdf_cote_0           Importance: 0.01\n",
      "Variable: bdf_cote_1           Importance: 0.01\n",
      "Variable: duree_cl_1           Importance: 0.01\n",
      "Variable: duree_cl_2           Importance: 0.01\n",
      "Variable: pc_appo2_1           Importance: 0.01\n",
      "Variable: pc_appo2_2           Importance: 0.01\n",
      "Variable: pc_appo2_3           Importance: 0.01\n",
      "Variable: age2_1               Importance: 0.01\n",
      "Variable: age2_2               Importance: 0.01\n",
      "Variable: age2_3               Importance: 0.01\n",
      "Variable: mt_rev2_1            Importance: 0.01\n",
      "Variable: mt_rev2_2            Importance: 0.01\n",
      "Variable: part_loyer2_1        Importance: 0.01\n",
      "Variable: part_loyer2_2        Importance: 0.01\n",
      "Variable: part_loyer2_3        Importance: 0.01\n",
      "Variable: anc_emp2_1           Importance: 0.0\n",
      "Variable: anc_emp2_2           Importance: 0.0\n",
      "Variable: anc_emp2_3           Importance: 0.0\n"
     ]
    },
    {
     "data": {
      "image/png": "[encoded data removed]",
      "text/plain": [
       "<Figure size 432x288 with 1 Axes>"
      ]
     },
     "metadata": {},
     "output_type": "display_data"
    }
   ],
   "source": [
    "# Use the forest's predict method on the test data\n",
    "predictions = rf.predict(X_test)\n",
    "predictions_prob = rf.predict_proba(X_test)\n",
    "\n",
    "# Get numerical feature importances\n",
    "importances = sorted(list(rf.feature_importances_),reverse=True)\n",
    "# List of tuples with variable and importance\n",
    "feature_importances = [(feature, round(importance, 2)) for feature, importance in zip(feature_list, importances)]\n",
    "# Sort the feature importances by most important first\n",
    "feature_importances = sorted(feature_importances, key = lambda x: x[1], reverse = True)\n",
    "# Print out the feature and importances \n",
    "[print('Variable: {:20} Importance: {}'.format(*pair)) for pair in feature_importances];\n",
    "\n",
    "import matplotlib.pyplot as plt\n",
    "%matplotlib inline\n",
    "plt.style.use('fivethirtyeight')\n",
    "# list of x locations for plotting\n",
    "x_values = list(range(len(importances)))\n",
    "# Make a bar chart\n",
    "plt.bar(x_values[:13], importances[:13], orientation = 'vertical')\n",
    "# Tick labels for x axis\n",
    "plt.xticks(x_values[:13], feature_list[:13], rotation='vertical')\n",
    "# Axis labels and title\n",
    "plt.ylabel('Importance'); plt.xlabel('Variables'); plt.title('Variable Importance');"
   ]
  },
  {
   "cell_type": "code",
   "execution_count": 51,
   "metadata": {},
   "outputs": [],
   "source": [
    "ident = np.arange(0,12915,1)"
   ]
  },
  {
   "cell_type": "code",
   "execution_count": 52,
   "metadata": {},
   "outputs": [
    {
     "name": "stdout",
     "output_type": "stream",
     "text": [
      "         key  true      prob\n",
      "10884  10884     1  1.000000\n",
      "4036    4036     1  1.000000\n",
      "9109    9109     1  1.000000\n",
      "11558  11558     1  1.000000\n",
      "3964    3964     1  1.000000\n",
      "...      ...   ...       ...\n",
      "9927    9927     1  0.905000\n",
      "326      326     1  0.905000\n",
      "6756    6756     1  0.905000\n",
      "504      504     1  0.905000\n",
      "6654    6654     1  0.904462\n",
      "\n",
      "[1291 rows x 3 columns]\n"
     ]
    }
   ],
   "source": [
    "\n",
    "\n",
    "default_prob = np.column_stack((ident,predictions_prob[:,1]))\n",
    "default_prob = pd.DataFrame(default_prob)\n",
    "default_prob.rename(columns={1:'prob'}, inplace=True)\n",
    "default_prob.rename(columns={0:'key'}, inplace=True)\n",
    "\n",
    "real_prob = np.column_stack((ident,y_test))\n",
    "real_prob = pd.DataFrame(real_prob)\n",
    "real_prob.rename(columns={1:'true'}, inplace=True)\n",
    "real_prob.rename(columns={0:'key'}, inplace=True)\n",
    "\n",
    "merged = pd.merge(real_prob, default_prob, on=['key'])\n",
    "\n",
    "merged_sorted = merged.sort_values(by=[\"prob\"],ascending=False)\n",
    "\n",
    "length = len(predictions_prob[:,1])\n",
    "ten_prct = int(0.1*length)\n",
    "score = merged_sorted[0:ten_prct]\n",
    "\n",
    "print(score)"
   ]
  },
  {
   "cell_type": "code",
   "execution_count": 53,
   "metadata": {},
   "outputs": [
    {
     "data": {
      "text/plain": [
       "0.9961270333075135"
      ]
     },
     "execution_count": 53,
     "metadata": {},
     "output_type": "execute_result"
    }
   ],
   "source": [
    "indice_10 = score[\"true\"].value_counts(1)\n",
    "indice_10[1]"
   ]
  },
  {
   "cell_type": "code",
   "execution_count": 54,
   "metadata": {},
   "outputs": [
    {
     "name": "stdout",
     "output_type": "stream",
     "text": [
      "0.9578201386033101\n"
     ]
    }
   ],
   "source": [
    "from sklearn.metrics import roc_auc_score\n",
    "AUC = roc_auc_score(y_test, predictions_prob[:,1])\n",
    "Gini =2*AUC-1\n",
    "print(Gini)"
   ]
  },
  {
   "cell_type": "code",
   "execution_count": 12,
   "metadata": {},
   "outputs": [
    {
     "name": "stdout",
     "output_type": "stream",
     "text": [
      "Fitting 3 folds for each of 100 candidates, totalling 300 fits\n"
     ]
    },
    {
     "name": "stderr",
     "output_type": "stream",
     "text": [
      "[Parallel(n_jobs=-1)]: Using backend LokyBackend with 8 concurrent workers.\n",
      "[Parallel(n_jobs=-1)]: Done  25 tasks      | elapsed:   32.9s\n",
      "[Parallel(n_jobs=-1)]: Done 146 tasks      | elapsed:  3.3min\n",
      "[Parallel(n_jobs=-1)]: Done 300 out of 300 | elapsed:  5.9min finished\n"
     ]
    },
    {
     "data": {
      "text/plain": [
       "RandomizedSearchCV(cv=3, error_score='raise-deprecating',\n",
       "                   estimator=RandomForestClassifier(bootstrap=True,\n",
       "                                                    class_weight=None,\n",
       "                                                    criterion='gini',\n",
       "                                                    max_depth=None,\n",
       "                                                    max_features='auto',\n",
       "                                                    max_leaf_nodes=None,\n",
       "                                                    min_impurity_decrease=0.0,\n",
       "                                                    min_impurity_split=None,\n",
       "                                                    min_samples_leaf=1,\n",
       "                                                    min_samples_split=2,\n",
       "                                                    min_weight_fraction_leaf=0.0,\n",
       "                                                    n_estimators='warn',\n",
       "                                                    n_jobs=None,\n",
       "                                                    oob_sc...\n",
       "                                                      70, 80, 90, 100, 110,\n",
       "                                                      None],\n",
       "                                        'max_features': ['auto', 'sqrt'],\n",
       "                                        'min_samples_leaf': [1, 2, 4],\n",
       "                                        'min_samples_split': [2, 5, 10],\n",
       "                                        'n_estimators': [200, 218, 236, 254,\n",
       "                                                         272, 290, 309, 327,\n",
       "                                                         345, 363, 381, 400,\n",
       "                                                         418, 436, 454, 472,\n",
       "                                                         490, 509, 527, 545,\n",
       "                                                         563, 581, 600, 618,\n",
       "                                                         636, 654, 672, 690,\n",
       "                                                         709, 727, ...]},\n",
       "                   pre_dispatch='2*n_jobs', random_state=1337, refit=True,\n",
       "                   return_train_score=False, scoring=None, verbose=2)"
      ]
     },
     "execution_count": 12,
     "metadata": {},
     "output_type": "execute_result"
    }
   ],
   "source": [
    "from sklearn.model_selection import RandomizedSearchCV\n",
    "from sklearn.ensemble import RandomForestClassifier\n",
    "# Number of trees in random forest\n",
    "n_estimators = [int(x) for x in np.linspace(start = 200, stop = 2000, num = 100)]\n",
    "# Number of features to consider at every split\n",
    "max_features = ['auto', 'sqrt']\n",
    "# Maximum number of levels in tree\n",
    "max_depth = [int(x) for x in np.linspace(10, 110, num = 11)]\n",
    "max_depth.append(None)\n",
    "# Minimum number of samples required to split a node\n",
    "min_samples_split = [2, 5, 10]\n",
    "# Minimum number of samples required at each leaf node\n",
    "min_samples_leaf = [1, 2, 4]\n",
    "# Method of selecting samples for training each tree\n",
    "bootstrap = [True, False]\n",
    "# Create the random grid\n",
    "\n",
    "random_grid = {'n_estimators': n_estimators,\n",
    "               'max_features': max_features,\n",
    "               'max_depth': max_depth,\n",
    "               'min_samples_split': min_samples_split,\n",
    "               'min_samples_leaf': min_samples_leaf,\n",
    "               'bootstrap': bootstrap}\n",
    "\n",
    "rf = RandomForestClassifier()\n",
    "rf_random = RandomizedSearchCV(estimator = rf,\n",
    "                               param_distributions = random_grid,\n",
    "                               n_iter = 100,\n",
    "                               cv = 3,\n",
    "                               verbose=2,\n",
    "                               random_state=1337,\n",
    "                               n_jobs = -1)\n",
    "rf_random.fit(X_train, y_train)"
   ]
  },
  {
   "cell_type": "code",
   "execution_count": 13,
   "metadata": {},
   "outputs": [
    {
     "data": {
      "text/plain": [
       "{'cv': 3,\n",
       " 'error_score': 'raise-deprecating',\n",
       " 'estimator__bootstrap': True,\n",
       " 'estimator__class_weight': None,\n",
       " 'estimator__criterion': 'gini',\n",
       " 'estimator__max_depth': None,\n",
       " 'estimator__max_features': 'auto',\n",
       " 'estimator__max_leaf_nodes': None,\n",
       " 'estimator__min_impurity_decrease': 0.0,\n",
       " 'estimator__min_impurity_split': None,\n",
       " 'estimator__min_samples_leaf': 1,\n",
       " 'estimator__min_samples_split': 2,\n",
       " 'estimator__min_weight_fraction_leaf': 0.0,\n",
       " 'estimator__n_estimators': 'warn',\n",
       " 'estimator__n_jobs': None,\n",
       " 'estimator__oob_score': False,\n",
       " 'estimator__random_state': None,\n",
       " 'estimator__verbose': 0,\n",
       " 'estimator__warm_start': False,\n",
       " 'estimator': RandomForestClassifier(bootstrap=True, class_weight=None, criterion='gini',\n",
       "                        max_depth=None, max_features='auto', max_leaf_nodes=None,\n",
       "                        min_impurity_decrease=0.0, min_impurity_split=None,\n",
       "                        min_samples_leaf=1, min_samples_split=2,\n",
       "                        min_weight_fraction_leaf=0.0, n_estimators='warn',\n",
       "                        n_jobs=None, oob_score=False, random_state=None,\n",
       "                        verbose=0, warm_start=False),\n",
       " 'iid': 'warn',\n",
       " 'n_iter': 100,\n",
       " 'n_jobs': -1,\n",
       " 'param_distributions': {'n_estimators': [200,\n",
       "   218,\n",
       "   236,\n",
       "   254,\n",
       "   272,\n",
       "   290,\n",
       "   309,\n",
       "   327,\n",
       "   345,\n",
       "   363,\n",
       "   381,\n",
       "   400,\n",
       "   418,\n",
       "   436,\n",
       "   454,\n",
       "   472,\n",
       "   490,\n",
       "   509,\n",
       "   527,\n",
       "   545,\n",
       "   563,\n",
       "   581,\n",
       "   600,\n",
       "   618,\n",
       "   636,\n",
       "   654,\n",
       "   672,\n",
       "   690,\n",
       "   709,\n",
       "   727,\n",
       "   745,\n",
       "   763,\n",
       "   781,\n",
       "   800,\n",
       "   818,\n",
       "   836,\n",
       "   854,\n",
       "   872,\n",
       "   890,\n",
       "   909,\n",
       "   927,\n",
       "   945,\n",
       "   963,\n",
       "   981,\n",
       "   1000,\n",
       "   1018,\n",
       "   1036,\n",
       "   1054,\n",
       "   1072,\n",
       "   1090,\n",
       "   1109,\n",
       "   1127,\n",
       "   1145,\n",
       "   1163,\n",
       "   1181,\n",
       "   1200,\n",
       "   1218,\n",
       "   1236,\n",
       "   1254,\n",
       "   1272,\n",
       "   1290,\n",
       "   1309,\n",
       "   1327,\n",
       "   1345,\n",
       "   1363,\n",
       "   1381,\n",
       "   1400,\n",
       "   1418,\n",
       "   1436,\n",
       "   1454,\n",
       "   1472,\n",
       "   1490,\n",
       "   1509,\n",
       "   1527,\n",
       "   1545,\n",
       "   1563,\n",
       "   1581,\n",
       "   1600,\n",
       "   1618,\n",
       "   1636,\n",
       "   1654,\n",
       "   1672,\n",
       "   1690,\n",
       "   1709,\n",
       "   1727,\n",
       "   1745,\n",
       "   1763,\n",
       "   1781,\n",
       "   1800,\n",
       "   1818,\n",
       "   1836,\n",
       "   1854,\n",
       "   1872,\n",
       "   1890,\n",
       "   1909,\n",
       "   1927,\n",
       "   1945,\n",
       "   1963,\n",
       "   1981,\n",
       "   2000],\n",
       "  'max_features': ['auto', 'sqrt'],\n",
       "  'max_depth': [10, 20, 30, 40, 50, 60, 70, 80, 90, 100, 110, None],\n",
       "  'min_samples_split': [2, 5, 10],\n",
       "  'min_samples_leaf': [1, 2, 4],\n",
       "  'bootstrap': [True, False]},\n",
       " 'pre_dispatch': '2*n_jobs',\n",
       " 'random_state': 1337,\n",
       " 'refit': True,\n",
       " 'return_train_score': False,\n",
       " 'scoring': None,\n",
       " 'verbose': 2}"
      ]
     },
     "execution_count": 13,
     "metadata": {},
     "output_type": "execute_result"
    }
   ],
   "source": [
    "rf_random.get_params()"
   ]
  },
  {
   "cell_type": "code",
   "execution_count": null,
   "metadata": {},
   "outputs": [],
   "source": []
  }
 ],
 "metadata": {
  "kernelspec": {
   "display_name": "Python 3",
   "language": "python",
   "name": "python3"
  },
  "language_info": {
   "codemirror_mode": {
    "name": "ipython",
    "version": 3
   },
   "file_extension": ".py",
   "mimetype": "text/x-python",
   "name": "python",
   "nbconvert_exporter": "python",
   "pygments_lexer": "ipython3",
   "version": "3.7.4"
  }
 },
 "nbformat": 4,
 "nbformat_minor": 2
}
