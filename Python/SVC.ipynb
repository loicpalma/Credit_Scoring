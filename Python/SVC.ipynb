{
 "cells": [
  {
   "cell_type": "code",
   "execution_count": 19,
   "metadata": {},
   "outputs": [],
   "source": [
    "import numpy as np \n",
    "import pandas as pd \n",
    "import matplotlib.pyplot as plt\n",
    "from datetime import date\n",
    "import seaborn as sns\n",
    "import random \n",
    "import plotly.offline as py\n",
    "import plotly.graph_objs as go\n",
    "import plotly.tools as tls\n",
    "import plotly.figure_factory as ff\n",
    "from pandas.plotting import table\n",
    "\n",
    "import warnings\n",
    "warnings.filterwarnings(\"ignore\")\n",
    "import itertools\n",
    "import scipy.stats as ss\n",
    "\n",
    "\n",
    "import xgboost as xgb\n",
    "\n",
    "from sklearn.metrics import mean_absolute_error\n",
    "from sklearn.metrics import r2_score\n",
    "from sklearn.metrics import mean_squared_error\n",
    "from math import sqrt\n",
    "\n",
    "import numpy as np \n",
    "import pandas as pd \n",
    "import matplotlib.pyplot as plt\n",
    "from sklearn import metrics\n",
    "\n",
    "from sklearn.preprocessing import LabelEncoder\n",
    "\n",
    "\n",
    "# Using Skicit-learn to split data into training and testing sets\n",
    "from sklearn.model_selection import train_test_split\n",
    "\n",
    "df_raw = pd.read_csv(\"subsample_df.csv\", encoding = \"ISO-8859-1\")"
   ]
  },
  {
   "cell_type": "code",
   "execution_count": 20,
   "metadata": {},
   "outputs": [],
   "source": [
    "del df_raw[\"no_cnt_crypte\"]\n",
    "del df_raw[\"no_par_crypte\"]\n",
    "del df_raw[\"date_gest\"]\n",
    "df = df_raw\n",
    "df['CSP'] = df['CSP'].astype('category')\n",
    "df['ETAT_CIVIL'] = df['ETAT_CIVIL'].astype('category')\n",
    "df['IND_CLI_RNVA'] = df['IND_CLI_RNVA'].astype('category')\n",
    "df['QUAL_VEH'] = df['QUAL_VEH'].astype('category')\n",
    "df['ind_fch_fcc'] = df['ind_fch_fcc'].astype('category')\n",
    "df['produit'] = df['produit'].astype('category')\n",
    "df['secteur_'] = df['secteur_'].astype('category')\n",
    "df['genre_veh'] = df['genre_veh'].astype('category')\n",
    "df['copot_'] = df['copot_'].astype('category')\n",
    "df['pan_dir_'] = df['pan_dir_'].astype('category')\n",
    "df['fichage'] = df['fichage'].astype('category')\n",
    "df['bdf_cote'] = df['bdf_cote'].astype('category')\n",
    "df['duree_cl'] = df['duree_cl'].astype('category')\n",
    "df['pc_appo2'] = df['pc_appo2'].astype('category')\n",
    "df['age2'] = df['age2'].astype('category')\n",
    "df['mt_rev2'] = df['mt_rev2'].astype('category')\n",
    "df['part_loyer2'] = df['part_loyer2'].astype('category')\n",
    "df['anc_emp2'] = df['anc_emp2'].astype('category')\n",
    "df['MODE_HABI'] = df['MODE_HABI'].astype('category')"
   ]
  },
  {
   "cell_type": "code",
   "execution_count": 21,
   "metadata": {},
   "outputs": [
    {
     "name": "stdout",
     "output_type": "stream",
     "text": [
      "# of columns after one-hot encoding: 55\n"
     ]
    }
   ],
   "source": [
    "X, y = df.iloc[:,1:],df.iloc[:,0]\n",
    "one_hot_encoded_X = pd.get_dummies(X)\n",
    "print(\"# of columns after one-hot encoding: {0}\".format(len(one_hot_encoded_X.columns)))"
   ]
  },
  {
   "cell_type": "code",
   "execution_count": 22,
   "metadata": {},
   "outputs": [],
   "source": [
    "from sklearn.model_selection import train_test_split\n",
    "X_train, X_test, y_train, y_test = train_test_split(one_hot_encoded_X, y, test_size=0.25, random_state=1337)"
   ]
  },
  {
   "cell_type": "code",
   "execution_count": 146,
   "metadata": {},
   "outputs": [
    {
     "data": {
      "text/plain": [
       "SVC(C=1.0, cache_size=200, class_weight=None, coef0=0.0,\n",
       "    decision_function_shape='ovr', degree=3, gamma='auto_deprecated',\n",
       "    kernel='rbf', max_iter=-1, probability=True, random_state=None,\n",
       "    shrinking=True, tol=0.001, verbose=False)"
      ]
     },
     "execution_count": 146,
     "metadata": {},
     "output_type": "execute_result"
    }
   ],
   "source": [
    "from sklearn.svm import SVC\n",
    "random.seed(1337)\n",
    "svclassifier = SVC(kernel='rbf', probability=True)\n",
    "svclassifier.fit(X_train, y_train)"
   ]
  },
  {
   "cell_type": "code",
   "execution_count": 147,
   "metadata": {},
   "outputs": [],
   "source": [
    "y_pred = svclassifier.predict(X_test)"
   ]
  },
  {
   "cell_type": "code",
   "execution_count": 148,
   "metadata": {},
   "outputs": [],
   "source": [
    "predictions_prob = svclassifier.predict_proba(X_test)"
   ]
  },
  {
   "cell_type": "code",
   "execution_count": 149,
   "metadata": {},
   "outputs": [
    {
     "data": {
      "text/plain": [
       "2835"
      ]
     },
     "execution_count": 149,
     "metadata": {},
     "output_type": "execute_result"
    }
   ],
   "source": [
    "len(predictions_prob)"
   ]
  },
  {
   "cell_type": "code",
   "execution_count": 150,
   "metadata": {
    "scrolled": true
   },
   "outputs": [
    {
     "name": "stdout",
     "output_type": "stream",
     "text": [
      "       key  true      prob\n",
      "1711  1711     1  0.996036\n",
      "2167  2167     1  0.987081\n",
      "1654  1654     1  0.987081\n",
      "2634  2634     1  0.971023\n",
      "2211  2211     1  0.960919\n",
      "...    ...   ...       ...\n",
      "2232  2232     0  0.122720\n",
      "971    971     0  0.122586\n",
      "1570  1570     0  0.122428\n",
      "2039  2039     0  0.122421\n",
      "1901  1901     0  0.122366\n",
      "\n",
      "[283 rows x 3 columns]\n"
     ]
    }
   ],
   "source": [
    "ident = np.arange(0,len(predictions_prob),1)\n",
    "\n",
    "default_prob = np.column_stack((ident,predictions_prob[:,1]))\n",
    "default_prob = pd.DataFrame(default_prob)\n",
    "default_prob.rename(columns={1:'prob'}, inplace=True)\n",
    "default_prob.rename(columns={0:'key'}, inplace=True)\n",
    "\n",
    "real_prob = np.column_stack((ident,y_test))\n",
    "real_prob = pd.DataFrame(real_prob)\n",
    "real_prob.rename(columns={1:'true'}, inplace=True)\n",
    "real_prob.rename(columns={0:'key'}, inplace=True)\n",
    "\n",
    "merged = pd.merge(real_prob, default_prob, on=['key'])\n",
    "\n",
    "merged_sorted = merged.sort_values(by=[\"prob\"],ascending=False)\n",
    "\n",
    "length = len(predictions_prob[:,1])\n",
    "ten_prct = int(0.1*length)\n",
    "score = merged_sorted[0:ten_prct]\n",
    "\n",
    "print(score)"
   ]
  },
  {
   "cell_type": "code",
   "execution_count": 151,
   "metadata": {},
   "outputs": [
    {
     "name": "stdout",
     "output_type": "stream",
     "text": [
      "[[   0 2835]]\n"
     ]
    }
   ],
   "source": [
    "unique, counts = np.unique(y_pred, return_counts=True)\n",
    "\n",
    "print(np.asarray((unique, counts)).T)"
   ]
  },
  {
   "cell_type": "code",
   "execution_count": 152,
   "metadata": {},
   "outputs": [
    {
     "data": {
      "text/plain": [
       "0.42402826855123676"
      ]
     },
     "execution_count": 152,
     "metadata": {},
     "output_type": "execute_result"
    }
   ],
   "source": [
    "indice_10 = score[\"true\"].value_counts(1)\n",
    "indice_10[1]"
   ]
  },
  {
   "cell_type": "code",
   "execution_count": 153,
   "metadata": {},
   "outputs": [
    {
     "name": "stdout",
     "output_type": "stream",
     "text": [
      "0.5775353455408858\n"
     ]
    }
   ],
   "source": [
    "from sklearn.metrics import roc_auc_score\n",
    "AUC = roc_auc_score(y_test, predictions_prob[:,1])\n",
    "Gini =2*AUC-1\n",
    "print(Gini)"
   ]
  },
  {
   "cell_type": "code",
   "execution_count": null,
   "metadata": {},
   "outputs": [],
   "source": []
  },
  {
   "cell_type": "code",
   "execution_count": 189,
   "metadata": {},
   "outputs": [
    {
     "name": "stdout",
     "output_type": "stream",
     "text": [
      "# of columns after one-hot encoding: 50\n"
     ]
    }
   ],
   "source": [
    "df_raw = pd.read_excel(\"df.xlsx\")\n",
    "df = df_raw.iloc[:,2:]\n",
    "df['CSP'] = df['CSP'].astype('category')\n",
    "df['ETAT_CIVIL'] = df['ETAT_CIVIL'].astype('category')\n",
    "df['IND_CLI_RNVA'] = df['IND_CLI_RNVA'].astype('category')\n",
    "df['QUAL_VEH'] = df['QUAL_VEH'].astype('category')\n",
    "df['imp_reg'] = df['imp_reg'].astype('category')\n",
    "df['ind_fch_fcc'] = df['ind_fch_fcc'].astype('category')\n",
    "df['imp_reg'] = df['imp_reg'].astype('category')\n",
    "df['produit'] = df['produit'].astype('category')\n",
    "df['proprio'] = df['proprio'].astype('category')\n",
    "df['secteur_'] = df['secteur_'].astype('category')\n",
    "df['ty_pp'] = df['ty_pp'].astype('category')\n",
    "X, y = df.iloc[:,:-1],df.iloc[:,-1]\n",
    "one_hot_encoded_X = pd.get_dummies(X)\n",
    "print(\"# of columns after one-hot encoding: {0}\".format(len(one_hot_encoded_X.columns)))\n",
    "from sklearn.model_selection import train_test_split\n",
    "X_train, X_test, y_train, y_test = train_test_split(one_hot_encoded_X, y, test_size=0.25, random_state=1337)"
   ]
  },
  {
   "cell_type": "code",
   "execution_count": null,
   "metadata": {},
   "outputs": [],
   "source": [
    "from sklearn.svm import SVC\n",
    "random.seed(1337)\n",
    "\n",
    "svclassifier = SVC(kernel='poly', probability=True)\n",
    "svclassifier.fit(X_train, y_train)"
   ]
  },
  {
   "cell_type": "code",
   "execution_count": null,
   "metadata": {},
   "outputs": [],
   "source": [
    "y_pred = svclassifier.predict(X_test)"
   ]
  },
  {
   "cell_type": "code",
   "execution_count": null,
   "metadata": {},
   "outputs": [],
   "source": [
    "predictions_prob = svclassifier.predict_proba(X_test)"
   ]
  },
  {
   "cell_type": "code",
   "execution_count": null,
   "metadata": {},
   "outputs": [],
   "source": [
    "len(predictions_prob)"
   ]
  },
  {
   "cell_type": "code",
   "execution_count": null,
   "metadata": {},
   "outputs": [],
   "source": [
    "ident = np.arange(0,len(predictions_prob),1)\n",
    "\n",
    "default_prob = np.column_stack((ident,predictions_prob[:,1]))\n",
    "default_prob = pd.DataFrame(default_prob)\n",
    "default_prob.rename(columns={1:'prob'}, inplace=True)\n",
    "default_prob.rename(columns={0:'key'}, inplace=True)\n",
    "\n",
    "real_prob = np.column_stack((ident,y_test))\n",
    "real_prob = pd.DataFrame(real_prob)\n",
    "real_prob.rename(columns={1:'true'}, inplace=True)\n",
    "real_prob.rename(columns={0:'key'}, inplace=True)\n",
    "\n",
    "merged = pd.merge(real_prob, default_prob, on=['key'])\n",
    "\n",
    "merged_sorted = merged.sort_values(by=[\"prob\"],ascending=False)\n",
    "\n",
    "length = len(predictions_prob[:,1])\n",
    "ten_prct = int(0.1*length)\n",
    "score = merged_sorted[0:ten_prct]\n",
    "\n",
    "print(score)"
   ]
  },
  {
   "cell_type": "code",
   "execution_count": null,
   "metadata": {},
   "outputs": [],
   "source": [
    "unique, counts = np.unique(y_pred, return_counts=True)\n",
    "\n",
    "print(np.asarray((unique, counts)).T)"
   ]
  },
  {
   "cell_type": "code",
   "execution_count": null,
   "metadata": {},
   "outputs": [],
   "source": [
    "indice_10 = score[\"true\"].value_counts(1)\n",
    "indice_10[1]"
   ]
  },
  {
   "cell_type": "code",
   "execution_count": null,
   "metadata": {},
   "outputs": [],
   "source": [
    "from sklearn.metrics import roc_auc_score\n",
    "AUC = roc_auc_score(y_test, predictions_prob[:,1])\n",
    "Gini =2*AUC-1\n",
    "print(Gini)"
   ]
  },
  {
   "cell_type": "code",
   "execution_count": null,
   "metadata": {},
   "outputs": [],
   "source": []
  }
 ],
 "metadata": {
  "kernelspec": {
   "display_name": "Python 3",
   "language": "python",
   "name": "python3"
  },
  "language_info": {
   "codemirror_mode": {
    "name": "ipython",
    "version": 3
   },
   "file_extension": ".py",
   "mimetype": "text/x-python",
   "name": "python",
   "nbconvert_exporter": "python",
   "pygments_lexer": "ipython3",
   "version": "3.7.4"
  }
 },
 "nbformat": 4,
 "nbformat_minor": 2
}
