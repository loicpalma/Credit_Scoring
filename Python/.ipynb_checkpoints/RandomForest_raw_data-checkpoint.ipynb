{
 "cells": [
  {
   "cell_type": "code",
   "execution_count": null,
   "metadata": {},
   "outputs": [],
   "source": [
    "import numpy as np \n",
    "import pandas as pd \n",
    "import matplotlib.pyplot as plt\n",
    "from datetime import date\n",
    "import seaborn as sns\n",
    "import random \n",
    "import plotly.offline as py\n",
    "import plotly.graph_objs as go\n",
    "import plotly.tools as tls\n",
    "import plotly.figure_factory as ff\n",
    "from pandas.plotting import table\n",
    "\n",
    "import warnings\n",
    "warnings.filterwarnings(\"ignore\")\n",
    "import itertools\n",
    "import scipy.stats as ss\n",
    "\n",
    "\n",
    "import xgboost as xgb\n",
    "\n",
    "from sklearn.metrics import mean_absolute_error\n",
    "from sklearn.metrics import r2_score\n",
    "from sklearn.metrics import mean_squared_error\n",
    "from math import sqrt\n",
    "\n",
    "import numpy as np \n",
    "import pandas as pd \n",
    "import matplotlib.pyplot as plt\n",
    "from sklearn import metrics\n",
    "\n",
    "from sklearn.preprocessing import LabelEncoder\n",
    "\n",
    "\n",
    "# Using Skicit-learn to split data into training and testing sets\n",
    "from sklearn.model_selection import train_test_split\n",
    "\n"
   ]
  },
  {
   "cell_type": "code",
   "execution_count": null,
   "metadata": {},
   "outputs": [],
   "source": [
    "df_raw = pd.read_excel(\"df.xlsx\")\n",
    "df = df_raw.iloc[:,2:]"
   ]
  },
  {
   "cell_type": "code",
   "execution_count": 234,
   "metadata": {},
   "outputs": [],
   "source": [
    "df['CSP'] = df['CSP'].astype('category')\n",
    "df['ETAT_CIVIL'] = df['ETAT_CIVIL'].astype('category')\n",
    "df['IND_CLI_RNVA'] = df['IND_CLI_RNVA'].astype('category')\n",
    "df['QUAL_VEH'] = df['QUAL_VEH'].astype('category')\n",
    "df['imp_reg'] = df['imp_reg'].astype('category')\n",
    "df['ind_fch_fcc'] = df['ind_fch_fcc'].astype('category')\n",
    "df['imp_reg'] = df['imp_reg'].astype('category')\n",
    "df['produit'] = df['produit'].astype('category')\n",
    "df['proprio'] = df['proprio'].astype('category')\n",
    "df['secteur_'] = df['secteur_'].astype('category')\n",
    "df['ty_pp'] = df['ty_pp'].astype('category')"
   ]
  },
  {
   "cell_type": "code",
   "execution_count": 235,
   "metadata": {},
   "outputs": [
    {
     "name": "stdout",
     "output_type": "stream",
     "text": [
      "# of columns after one-hot encoding: 50\n"
     ]
    }
   ],
   "source": [
    "X, y = df.iloc[:,:-1],df.iloc[:,-1]\n",
    "one_hot_encoded_X = pd.get_dummies(X)\n",
    "print(\"# of columns after one-hot encoding: {0}\".format(len(one_hot_encoded_X.columns)))"
   ]
  },
  {
   "cell_type": "code",
   "execution_count": 236,
   "metadata": {},
   "outputs": [],
   "source": [
    "from sklearn.model_selection import train_test_split\n",
    "X_train, X_test, y_train, y_test = train_test_split(one_hot_encoded_X, y, test_size=0.25, random_state=1337)"
   ]
  },
  {
   "cell_type": "code",
   "execution_count": 237,
   "metadata": {},
   "outputs": [],
   "source": [
    "from sklearn.ensemble import RandomForestClassifier\n",
    "\n",
    "rf = RandomForestClassifier(n_jobs=2, random_state=0,criterion=\"gini\",bootstrap=True,max_features=13)"
   ]
  },
  {
   "cell_type": "code",
   "execution_count": 238,
   "metadata": {},
   "outputs": [],
   "source": [
    "rf.fit(X_train,y_train)\n",
    "\n",
    "features = pd.get_dummies(df)\n",
    "# Remove the labels from the features\n",
    "# axis 1 refers to the columns\n",
    "features= features.drop('we18', axis = 1)\n",
    "# Saving feature names for later use\n",
    "feature_list = list(features.columns)\n",
    "# Convert to numpy array\n",
    "features = np.array(features)"
   ]
  },
  {
   "cell_type": "code",
   "execution_count": 239,
   "metadata": {},
   "outputs": [
    {
     "name": "stdout",
     "output_type": "stream",
     "text": [
      "Variable: AGE_VEH              Importance: 0.13\n",
      "Variable: DUREE                Importance: 0.12\n",
      "Variable: MT_DMD               Importance: 0.11\n",
      "Variable: MT_REV               Importance: 0.11\n",
      "Variable: mt_charges           Importance: 0.08\n",
      "Variable: PC_APPO              Importance: 0.05\n",
      "Variable: age                  Importance: 0.05\n",
      "Variable: anc_emp              Importance: 0.04\n",
      "Variable: copot_               Importance: 0.03\n",
      "Variable: fichage              Importance: 0.03\n",
      "Variable: part_loyer           Importance: 0.02\n",
      "Variable: pan_dir_             Importance: 0.02\n",
      "Variable: temps                Importance: 0.01\n",
      "Variable: CSP_0                Importance: 0.01\n",
      "Variable: CSP_11               Importance: 0.01\n",
      "Variable: CSP_12               Importance: 0.01\n",
      "Variable: CSP_13               Importance: 0.01\n",
      "Variable: CSP_99               Importance: 0.01\n",
      "Variable: ETAT_CIVIL_C         Importance: 0.01\n",
      "Variable: ETAT_CIVIL_D         Importance: 0.01\n",
      "Variable: ETAT_CIVIL_M         Importance: 0.01\n",
      "Variable: ETAT_CIVIL_S         Importance: 0.01\n",
      "Variable: ETAT_CIVIL_U         Importance: 0.01\n",
      "Variable: ETAT_CIVIL_V         Importance: 0.01\n",
      "Variable: IND_CLI_RNVA_N       Importance: 0.01\n",
      "Variable: IND_CLI_RNVA_O       Importance: 0.01\n",
      "Variable: QUAL_VEH_VN          Importance: 0.01\n",
      "Variable: QUAL_VEH_VO          Importance: 0.01\n",
      "Variable: genre_veh_VP         Importance: 0.01\n",
      "Variable: genre_veh_VU         Importance: 0.01\n",
      "Variable: imp_reg_NR           Importance: 0.01\n",
      "Variable: imp_reg_at_least_one_reg Importance: 0.01\n",
      "Variable: imp_reg_no_imp_reg   Importance: 0.01\n",
      "Variable: ind_fch_fcc_N        Importance: 0.01\n",
      "Variable: ind_fch_fcc_O        Importance: 0.0\n",
      "Variable: produit_CB           Importance: 0.0\n",
      "Variable: produit_CC           Importance: 0.0\n",
      "Variable: produit_LLD          Importance: 0.0\n",
      "Variable: proprio_no_proprio   Importance: 0.0\n",
      "Variable: proprio_proprio      Importance: 0.0\n",
      "Variable: secteur__AGR         Importance: 0.0\n",
      "Variable: secteur__ATR         Importance: 0.0\n",
      "Variable: secteur__BTP         Importance: 0.0\n",
      "Variable: secteur__C           Importance: 0.0\n",
      "Variable: secteur__EAE         Importance: 0.0\n",
      "Variable: secteur__HOP         Importance: 0.0\n",
      "Variable: secteur__SCE         Importance: 0.0\n",
      "Variable: secteur__TRA         Importance: 0.0\n",
      "Variable: ty_pp_PRI            Importance: 0.0\n",
      "Variable: ty_pp_PRO            Importance: 0.0\n"
     ]
    },
    {
     "data": {
      "image/png": "[encoded data removed]",
      "text/plain": [
       "<Figure size 432x288 with 1 Axes>"
      ]
     },
     "metadata": {},
     "output_type": "display_data"
    }
   ],
   "source": [
    "# Use the forest's predict method on the test data\n",
    "predictions = rf.predict(X_test)\n",
    "predictions_prob = rf.predict_proba(X_test)\n",
    "\n",
    "# Get numerical feature importances\n",
    "importances = sorted(list(rf.feature_importances_),reverse=True)\n",
    "# List of tuples with variable and importance\n",
    "feature_importances = [(feature, round(importance, 2)) for feature, importance in zip(feature_list, importances)]\n",
    "# Sort the feature importances by most important first\n",
    "feature_importances = sorted(feature_importances, key = lambda x: x[1], reverse = True)\n",
    "# Print out the feature and importances \n",
    "[print('Variable: {:20} Importance: {}'.format(*pair)) for pair in feature_importances];\n",
    "\n",
    "import matplotlib.pyplot as plt\n",
    "%matplotlib inline\n",
    "plt.style.use('fivethirtyeight')\n",
    "# list of x locations for plotting\n",
    "x_values = list(range(len(importances)))\n",
    "# Make a bar chart\n",
    "plt.bar(x_values[:13], importances[:13], orientation = 'vertical')\n",
    "# Tick labels for x axis\n",
    "plt.xticks(x_values[:13], feature_list[:13], rotation='vertical')\n",
    "# Axis labels and title\n",
    "plt.ylabel('Importance'); plt.xlabel('Variables'); plt.title('Variable Importance');"
   ]
  },
  {
   "cell_type": "code",
   "execution_count": 240,
   "metadata": {},
   "outputs": [],
   "source": [
    "ident = np.arange(0,16688,1)"
   ]
  },
  {
   "cell_type": "code",
   "execution_count": 241,
   "metadata": {},
   "outputs": [],
   "source": [
    "default_prob = np.column_stack((ident,predictions_prob[:,1]))\n",
    "default_prob = pd.DataFrame(default_prob)\n",
    "default_prob.rename(columns={1:'prob'}, inplace=True)\n",
    "default_prob.rename(columns={0:'key'}, inplace=True)"
   ]
  },
  {
   "cell_type": "code",
   "execution_count": 242,
   "metadata": {},
   "outputs": [],
   "source": [
    "real_prob = np.column_stack((ident,y_test))\n",
    "real_prob = pd.DataFrame(real_prob)\n",
    "real_prob.rename(columns={1:'true'}, inplace=True)\n",
    "real_prob.rename(columns={0:'key'}, inplace=True)"
   ]
  },
  {
   "cell_type": "code",
   "execution_count": 243,
   "metadata": {},
   "outputs": [],
   "source": [
    "merged = pd.merge(real_prob, default_prob, on=['key'])"
   ]
  },
  {
   "cell_type": "code",
   "execution_count": 244,
   "metadata": {},
   "outputs": [],
   "source": [
    "merged_sorted = merged.sort_values(by=[\"prob\"],ascending=False)"
   ]
  },
  {
   "cell_type": "code",
   "execution_count": 245,
   "metadata": {},
   "outputs": [],
   "source": [
    "length = len(predictions_prob[:,1])\n",
    "ten_prct = int(0.1*length)\n",
    "score = merged_sorted[0:ten_prct]"
   ]
  },
  {
   "cell_type": "code",
   "execution_count": 247,
   "metadata": {},
   "outputs": [
    {
     "data": {
      "text/plain": [
       "0.06115107913669065"
      ]
     },
     "execution_count": 247,
     "metadata": {},
     "output_type": "execute_result"
    }
   ],
   "source": [
    "indice_10 = score[\"true\"].value_counts(1)\n",
    "indice_10[1]"
   ]
  },
  {
   "cell_type": "code",
   "execution_count": 248,
   "metadata": {},
   "outputs": [
    {
     "name": "stdout",
     "output_type": "stream",
     "text": [
      "0.32225759090798234\n"
     ]
    }
   ],
   "source": [
    "from sklearn.metrics import roc_auc_score\n",
    "AUC = roc_auc_score(y_test, predictions_prob[:,1])\n",
    "Gini =2*AUC-1\n",
    "print(Gini)"
   ]
  },
  {
   "cell_type": "code",
   "execution_count": 300,
   "metadata": {},
   "outputs": [],
   "source": [
    "df_raw = pd.read_csv(\"subsample_df.csv\", encoding = \"ISO-8859-1\")"
   ]
  },
  {
   "cell_type": "code",
   "execution_count": 301,
   "metadata": {},
   "outputs": [],
   "source": [
    "del df_raw[\"no_cnt_crypte\"]\n",
    "del df_raw[\"no_par_crypte\"]\n",
    "del df_raw[\"date_gest\"]"
   ]
  },
  {
   "cell_type": "code",
   "execution_count": 302,
   "metadata": {},
   "outputs": [],
   "source": [
    "df = df_raw"
   ]
  },
  {
   "cell_type": "code",
   "execution_count": 303,
   "metadata": {},
   "outputs": [
    {
     "name": "stdout",
     "output_type": "stream",
     "text": [
      "<class 'pandas.core.frame.DataFrame'>\n",
      "RangeIndex: 11340 entries, 0 to 11339\n",
      "Data columns (total 20 columns):\n",
      "WE18            11340 non-null int64\n",
      "genre_veh       11340 non-null object\n",
      "produit         11340 non-null object\n",
      "QUAL_VEH        11340 non-null object\n",
      "IND_CLI_RNVA    11340 non-null object\n",
      "CSP             11340 non-null object\n",
      "ETAT_CIVIL      11340 non-null object\n",
      "MODE_HABI       11340 non-null object\n",
      "ind_fch_fcc     11340 non-null object\n",
      "copot_          11340 non-null object\n",
      "pan_dir_        11340 non-null object\n",
      "secteur_        11340 non-null object\n",
      "fichage         11340 non-null int64\n",
      "bdf_cote        11340 non-null int64\n",
      "duree_cl        11340 non-null int64\n",
      "pc_appo2        11340 non-null int64\n",
      "age2            11340 non-null int64\n",
      "mt_rev2         11340 non-null int64\n",
      "part_loyer2     11340 non-null int64\n",
      "anc_emp2        11340 non-null int64\n",
      "dtypes: int64(9), object(11)\n",
      "memory usage: 1.7+ MB\n"
     ]
    }
   ],
   "source": [
    "df.info()"
   ]
  },
  {
   "cell_type": "code",
   "execution_count": 304,
   "metadata": {},
   "outputs": [],
   "source": [
    "df['CSP'] = df['CSP'].astype('category')\n",
    "df['ETAT_CIVIL'] = df['ETAT_CIVIL'].astype('category')\n",
    "df['IND_CLI_RNVA'] = df['IND_CLI_RNVA'].astype('category')\n",
    "df['QUAL_VEH'] = df['QUAL_VEH'].astype('category')\n",
    "df['ind_fch_fcc'] = df['ind_fch_fcc'].astype('category')\n",
    "df['produit'] = df['produit'].astype('category')\n",
    "df['secteur_'] = df['secteur_'].astype('category')\n",
    "df['genre_veh'] = df['genre_veh'].astype('category')\n",
    "df['copot_'] = df['copot_'].astype('category')\n",
    "df['pan_dir_'] = df['pan_dir_'].astype('category')\n",
    "df['fichage'] = df['fichage'].astype('category')\n",
    "df['bdf_cote'] = df['bdf_cote'].astype('category')\n",
    "df['duree_cl'] = df['duree_cl'].astype('category')\n",
    "df['pc_appo2'] = df['pc_appo2'].astype('category')\n",
    "df['age2'] = df['age2'].astype('category')\n",
    "df['mt_rev2'] = df['mt_rev2'].astype('category')\n",
    "df['part_loyer2'] = df['part_loyer2'].astype('category')\n",
    "df['anc_emp2'] = df['anc_emp2'].astype('category')\n",
    "df['MODE_HABI'] = df['MODE_HABI'].astype('category')"
   ]
  },
  {
   "cell_type": "code",
   "execution_count": 305,
   "metadata": {},
   "outputs": [
    {
     "name": "stdout",
     "output_type": "stream",
     "text": [
      "# of columns after one-hot encoding: 55\n"
     ]
    }
   ],
   "source": [
    "X, y = df.iloc[:,1:],df.iloc[:,0]\n",
    "one_hot_encoded_X = pd.get_dummies(X)\n",
    "print(\"# of columns after one-hot encoding: {0}\".format(len(one_hot_encoded_X.columns)))"
   ]
  },
  {
   "cell_type": "code",
   "execution_count": 306,
   "metadata": {},
   "outputs": [],
   "source": [
    "from sklearn.model_selection import train_test_split\n",
    "X_train, X_test, y_train, y_test = train_test_split(one_hot_encoded_X, y, test_size=0.25, random_state=1337)"
   ]
  },
  {
   "cell_type": "code",
   "execution_count": 307,
   "metadata": {},
   "outputs": [],
   "source": [
    "from sklearn.ensemble import RandomForestClassifier\n",
    "\n",
    "rf = RandomForestClassifier(n_jobs=2, random_state=0,criterion=\"gini\",bootstrap=True,max_features=13)"
   ]
  },
  {
   "cell_type": "code",
   "execution_count": 308,
   "metadata": {},
   "outputs": [],
   "source": [
    "rf.fit(X_train,y_train)\n",
    "\n",
    "features = pd.get_dummies(df)\n",
    "# Remove the labels from the features\n",
    "# axis 1 refers to the columns\n",
    "features= features.drop('WE18', axis = 1)\n",
    "# Saving feature names for later use\n",
    "feature_list = list(features.columns)\n",
    "# Convert to numpy array\n",
    "features = np.array(features)"
   ]
  },
  {
   "cell_type": "code",
   "execution_count": 309,
   "metadata": {
    "scrolled": true
   },
   "outputs": [
    {
     "name": "stdout",
     "output_type": "stream",
     "text": [
      "Variable: genre_veh_Véhicule particulier Importance: 0.04\n",
      "Variable: genre_veh_Véhicule utilitaire Importance: 0.04\n",
      "Variable: produit_Credit Classique Importance: 0.03\n",
      "Variable: produit_Crédit Bail  Importance: 0.03\n",
      "Variable: produit_Location Longue Durée Importance: 0.03\n",
      "Variable: QUAL_VEH_Véhicule d'occasion Importance: 0.03\n",
      "Variable: QUAL_VEH_Véhicule neuf Importance: 0.03\n",
      "Variable: IND_CLI_RNVA_Non     Importance: 0.03\n",
      "Variable: IND_CLI_RNVA_Oui     Importance: 0.03\n",
      "Variable: CSP_Agriculteurs     Importance: 0.03\n",
      "Variable: CSP_Artisans         Importance: 0.03\n",
      "Variable: CSP_Autres           Importance: 0.03\n",
      "Variable: CSP_Commerçants      Importance: 0.03\n",
      "Variable: CSP_Professions libérales Importance: 0.03\n",
      "Variable: ETAT_CIVIL_Marié     Importance: 0.03\n",
      "Variable: ETAT_CIVIL_Personne vivant seule Importance: 0.02\n",
      "Variable: MODE_HABI_Non Propriétaire Importance: 0.02\n",
      "Variable: MODE_HABI_Propriétaire Importance: 0.02\n",
      "Variable: ind_fch_fcc_Non      Importance: 0.02\n",
      "Variable: ind_fch_fcc_Oui      Importance: 0.02\n",
      "Variable: copot__Bon           Importance: 0.02\n",
      "Variable: copot__Mauvais       Importance: 0.02\n",
      "Variable: copot__Moyen         Importance: 0.02\n",
      "Variable: pan_dir__Bon         Importance: 0.02\n",
      "Variable: pan_dir__Mauvais     Importance: 0.02\n",
      "Variable: secteur__Agriculture Importance: 0.02\n",
      "Variable: secteur__Autres      Importance: 0.02\n",
      "Variable: secteur__Biens de consommation Importance: 0.02\n",
      "Variable: secteur__Bâtiment et Travaux public Importance: 0.02\n",
      "Variable: secteur__Commerce de détail Importance: 0.02\n",
      "Variable: secteur__Enseignement et Auto-école Importance: 0.02\n",
      "Variable: secteur__Hôpitaux    Importance: 0.02\n",
      "Variable: secteur__Hôtellerie, Restauration Importance: 0.02\n",
      "Variable: secteur__Services    Importance: 0.02\n",
      "Variable: secteur__Transport   Importance: 0.02\n",
      "Variable: fichage_0            Importance: 0.02\n",
      "Variable: fichage_1            Importance: 0.01\n",
      "Variable: bdf_cote_0           Importance: 0.01\n",
      "Variable: bdf_cote_1           Importance: 0.01\n",
      "Variable: duree_cl_1           Importance: 0.01\n",
      "Variable: duree_cl_2           Importance: 0.01\n",
      "Variable: pc_appo2_1           Importance: 0.01\n",
      "Variable: pc_appo2_2           Importance: 0.01\n",
      "Variable: pc_appo2_3           Importance: 0.01\n",
      "Variable: age2_1               Importance: 0.01\n",
      "Variable: age2_2               Importance: 0.01\n",
      "Variable: age2_3               Importance: 0.01\n",
      "Variable: mt_rev2_1            Importance: 0.01\n",
      "Variable: mt_rev2_2            Importance: 0.01\n",
      "Variable: part_loyer2_1        Importance: 0.01\n",
      "Variable: part_loyer2_2        Importance: 0.01\n",
      "Variable: part_loyer2_3        Importance: 0.0\n",
      "Variable: anc_emp2_1           Importance: 0.0\n",
      "Variable: anc_emp2_2           Importance: 0.0\n",
      "Variable: anc_emp2_3           Importance: 0.0\n"
     ]
    },
    {
     "data": {
      "image/png": "[encoded data removed]",
      "text/plain": [
       "<Figure size 432x288 with 1 Axes>"
      ]
     },
     "metadata": {},
     "output_type": "display_data"
    }
   ],
   "source": [
    "# Use the forest's predict method on the test data\n",
    "predictions = rf.predict(X_test)\n",
    "predictions_prob = rf.predict_proba(X_test)\n",
    "\n",
    "# Get numerical feature importances\n",
    "importances = sorted(list(rf.feature_importances_),reverse=True)\n",
    "# List of tuples with variable and importance\n",
    "feature_importances = [(feature, round(importance, 2)) for feature, importance in zip(feature_list, importances)]\n",
    "# Sort the feature importances by most important first\n",
    "feature_importances = sorted(feature_importances, key = lambda x: x[1], reverse = True)\n",
    "# Print out the feature and importances \n",
    "[print('Variable: {:20} Importance: {}'.format(*pair)) for pair in feature_importances];\n",
    "\n",
    "import matplotlib.pyplot as plt\n",
    "%matplotlib inline\n",
    "plt.style.use('fivethirtyeight')\n",
    "# list of x locations for plotting\n",
    "x_values = list(range(len(importances)))\n",
    "# Make a bar chart\n",
    "plt.bar(x_values[:13], importances[:13], orientation = 'vertical')\n",
    "# Tick labels for x axis\n",
    "plt.xticks(x_values[:13], feature_list[:13], rotation='vertical')\n",
    "# Axis labels and title\n",
    "plt.ylabel('Importance'); plt.xlabel('Variables'); plt.title('Variable Importance');"
   ]
  },
  {
   "cell_type": "code",
   "execution_count": 310,
   "metadata": {},
   "outputs": [
    {
     "data": {
      "text/plain": [
       "2835"
      ]
     },
     "execution_count": 310,
     "metadata": {},
     "output_type": "execute_result"
    }
   ],
   "source": [
    "len(predictions_prob)"
   ]
  },
  {
   "cell_type": "code",
   "execution_count": 311,
   "metadata": {
    "scrolled": true
   },
   "outputs": [
    {
     "name": "stdout",
     "output_type": "stream",
     "text": [
      "       key  true      prob\n",
      "1460  1460     1  1.000000\n",
      "1725  1725     1  1.000000\n",
      "415    415     1  1.000000\n",
      "1557  1557     0  1.000000\n",
      "201    201     1  1.000000\n",
      "...    ...   ...       ...\n",
      "1840  1840     0  0.425000\n",
      "1617  1617     0  0.420000\n",
      "2288  2288     0  0.419643\n",
      "2597  2597     0  0.419643\n",
      "1902  1902     0  0.419643\n",
      "\n",
      "[283 rows x 3 columns]\n"
     ]
    }
   ],
   "source": [
    "ident = np.arange(0,2835,1)\n",
    "\n",
    "default_prob = np.column_stack((ident,predictions_prob[:,1]))\n",
    "default_prob = pd.DataFrame(default_prob)\n",
    "default_prob.rename(columns={1:'prob'}, inplace=True)\n",
    "default_prob.rename(columns={0:'key'}, inplace=True)\n",
    "\n",
    "real_prob = np.column_stack((ident,y_test))\n",
    "real_prob = pd.DataFrame(real_prob)\n",
    "real_prob.rename(columns={1:'true'}, inplace=True)\n",
    "real_prob.rename(columns={0:'key'}, inplace=True)\n",
    "\n",
    "merged = pd.merge(real_prob, default_prob, on=['key'])\n",
    "\n",
    "merged_sorted = merged.sort_values(by=[\"prob\"],ascending=False)\n",
    "\n",
    "length = len(predictions_prob[:,1])\n",
    "ten_prct = int(0.1*length)\n",
    "score = merged_sorted[0:ten_prct]\n",
    "\n",
    "print(score)"
   ]
  },
  {
   "cell_type": "code",
   "execution_count": 312,
   "metadata": {},
   "outputs": [
    {
     "data": {
      "text/plain": [
       "0.5830388692579506"
      ]
     },
     "execution_count": 312,
     "metadata": {},
     "output_type": "execute_result"
    }
   ],
   "source": [
    "indice_10 = score[\"true\"].value_counts(1)\n",
    "indice_10[1]"
   ]
  },
  {
   "cell_type": "code",
   "execution_count": 313,
   "metadata": {},
   "outputs": [
    {
     "name": "stdout",
     "output_type": "stream",
     "text": [
      "0.6749302339923631\n"
     ]
    }
   ],
   "source": [
    "from sklearn.metrics import roc_auc_score\n",
    "AUC = roc_auc_score(y_test, predictions_prob[:,1])\n",
    "Gini =2*AUC-1\n",
    "print(Gini)"
   ]
  },
  {
   "cell_type": "code",
   "execution_count": 3,
   "metadata": {},
   "outputs": [],
   "source": [
    "df_raw = pd.read_csv(\"df_smote.csv\", encoding = \"ISO-8859-1\")\n",
    "del df_raw[\"Unnamed: 0\"]"
   ]
  },
  {
   "cell_type": "code",
   "execution_count": 4,
   "metadata": {},
   "outputs": [],
   "source": [
    "df = df_raw"
   ]
  },
  {
   "cell_type": "code",
   "execution_count": 5,
   "metadata": {},
   "outputs": [],
   "source": [
    "df['CSP'] = df['CSP'].astype('category')\n",
    "df['ETAT_CIVIL'] = df['ETAT_CIVIL'].astype('category')\n",
    "df['IND_CLI_RNVA'] = df['IND_CLI_RNVA'].astype('category')\n",
    "df['QUAL_VEH'] = df['QUAL_VEH'].astype('category')\n",
    "df['ind_fch_fcc'] = df['ind_fch_fcc'].astype('category')\n",
    "df['produit'] = df['produit'].astype('category')\n",
    "df['secteur_'] = df['secteur_'].astype('category')\n",
    "df['genre_veh'] = df['genre_veh'].astype('category')\n",
    "df['copot_'] = df['copot_'].astype('category')\n",
    "df['pan_dir_'] = df['pan_dir_'].astype('category')\n",
    "df['fichage'] = df['fichage'].astype('category')\n",
    "df['bdf_cote'] = df['bdf_cote'].astype('category')\n",
    "df['duree_cl'] = df['duree_cl'].astype('category')\n",
    "df['pc_appo2'] = df['pc_appo2'].astype('category')\n",
    "df['age2'] = df['age2'].astype('category')\n",
    "df['mt_rev2'] = df['mt_rev2'].astype('category')\n",
    "df['part_loyer2'] = df['part_loyer2'].astype('category')\n",
    "df['anc_emp2'] = df['anc_emp2'].astype('category')\n",
    "df['MODE_HABI'] = df['MODE_HABI'].astype('category')"
   ]
  },
  {
   "cell_type": "code",
   "execution_count": 6,
   "metadata": {},
   "outputs": [
    {
     "name": "stdout",
     "output_type": "stream",
     "text": [
      "# of columns after one-hot encoding: 55\n"
     ]
    }
   ],
   "source": [
    "X, y = df.iloc[:,1:],df.iloc[:,0]\n",
    "one_hot_encoded_X = pd.get_dummies(X)\n",
    "print(\"# of columns after one-hot encoding: {0}\".format(len(one_hot_encoded_X.columns)))"
   ]
  },
  {
   "cell_type": "code",
   "execution_count": 318,
   "metadata": {},
   "outputs": [],
   "source": [
    "from sklearn.model_selection import train_test_split\n",
    "X_train, X_test, y_train, y_test = train_test_split(one_hot_encoded_X, y, test_size=0.25, random_state=1337)"
   ]
  },
  {
   "cell_type": "code",
   "execution_count": 319,
   "metadata": {},
   "outputs": [],
   "source": [
    "from sklearn.ensemble import RandomForestClassifier\n",
    "\n",
    "rf = RandomForestClassifier(n_jobs=2, random_state=0,criterion=\"gini\",bootstrap=True,max_features=13)"
   ]
  },
  {
   "cell_type": "code",
   "execution_count": 323,
   "metadata": {},
   "outputs": [],
   "source": [
    "rf.fit(X_train,y_train)\n",
    "\n",
    "features = pd.get_dummies(df)\n",
    "# Remove the labels from the features\n",
    "# axis 1 refers to the columns\n",
    "features= features.drop('WE18', axis = 1)\n",
    "# Saving feature names for later use\n",
    "feature_list = list(features.columns)\n",
    "# Convert to numpy array\n",
    "features = np.array(features)"
   ]
  },
  {
   "cell_type": "code",
   "execution_count": 324,
   "metadata": {},
   "outputs": [
    {
     "name": "stdout",
     "output_type": "stream",
     "text": [
      "Variable: genre_veh_Véhicule particulier Importance: 0.12\n",
      "Variable: genre_veh_Véhicule utilitaire Importance: 0.04\n",
      "Variable: produit_Credit Classique Importance: 0.03\n",
      "Variable: produit_Crédit Bail  Importance: 0.03\n",
      "Variable: produit_Location Longue Durée Importance: 0.03\n",
      "Variable: QUAL_VEH_Véhicule d'occasion Importance: 0.03\n",
      "Variable: QUAL_VEH_Véhicule neuf Importance: 0.03\n",
      "Variable: IND_CLI_RNVA_Non     Importance: 0.03\n",
      "Variable: IND_CLI_RNVA_Oui     Importance: 0.03\n",
      "Variable: CSP_Agriculteurs     Importance: 0.03\n",
      "Variable: CSP_Artisans         Importance: 0.02\n",
      "Variable: CSP_Autres           Importance: 0.02\n",
      "Variable: CSP_Commerçants      Importance: 0.02\n",
      "Variable: CSP_Professions libérales Importance: 0.02\n",
      "Variable: ETAT_CIVIL_Marié     Importance: 0.02\n",
      "Variable: ETAT_CIVIL_Personne vivant seule Importance: 0.02\n",
      "Variable: MODE_HABI_Non Propriétaire Importance: 0.02\n",
      "Variable: MODE_HABI_Propriétaire Importance: 0.02\n",
      "Variable: ind_fch_fcc_Non      Importance: 0.02\n",
      "Variable: ind_fch_fcc_Oui      Importance: 0.02\n",
      "Variable: copot__Bon           Importance: 0.02\n",
      "Variable: copot__Mauvais       Importance: 0.02\n",
      "Variable: copot__Moyen         Importance: 0.02\n",
      "Variable: pan_dir__Bon         Importance: 0.02\n",
      "Variable: pan_dir__Mauvais     Importance: 0.02\n",
      "Variable: secteur__Agriculture Importance: 0.02\n",
      "Variable: secteur__Autres      Importance: 0.02\n",
      "Variable: secteur__Biens de consommation Importance: 0.02\n",
      "Variable: secteur__Bâtiment et Travaux public Importance: 0.02\n",
      "Variable: secteur__Commerce de détail Importance: 0.02\n",
      "Variable: secteur__Enseignement et Auto-école Importance: 0.01\n",
      "Variable: secteur__Hôpitaux    Importance: 0.01\n",
      "Variable: secteur__Hôtellerie, Restauration Importance: 0.01\n",
      "Variable: secteur__Services    Importance: 0.01\n",
      "Variable: secteur__Transport   Importance: 0.01\n",
      "Variable: fichage_0            Importance: 0.01\n",
      "Variable: fichage_1            Importance: 0.01\n",
      "Variable: bdf_cote_0           Importance: 0.01\n",
      "Variable: bdf_cote_1           Importance: 0.01\n",
      "Variable: duree_cl_1           Importance: 0.01\n",
      "Variable: duree_cl_2           Importance: 0.01\n",
      "Variable: pc_appo2_1           Importance: 0.01\n",
      "Variable: pc_appo2_2           Importance: 0.01\n",
      "Variable: pc_appo2_3           Importance: 0.01\n",
      "Variable: age2_1               Importance: 0.01\n",
      "Variable: age2_2               Importance: 0.01\n",
      "Variable: age2_3               Importance: 0.01\n",
      "Variable: mt_rev2_1            Importance: 0.01\n",
      "Variable: mt_rev2_2            Importance: 0.01\n",
      "Variable: part_loyer2_1        Importance: 0.01\n",
      "Variable: part_loyer2_2        Importance: 0.01\n",
      "Variable: part_loyer2_3        Importance: 0.0\n",
      "Variable: anc_emp2_1           Importance: 0.0\n",
      "Variable: anc_emp2_2           Importance: 0.0\n",
      "Variable: anc_emp2_3           Importance: 0.0\n"
     ]
    },
    {
     "data": {
      "image/png": "[encoded data removed]",
      "text/plain": [
       "<Figure size 432x288 with 1 Axes>"
      ]
     },
     "metadata": {},
     "output_type": "display_data"
    }
   ],
   "source": [
    "# Use the forest's predict method on the test data\n",
    "predictions = rf.predict(X_test)\n",
    "predictions_prob = rf.predict_proba(X_test)\n",
    "\n",
    "# Get numerical feature importances\n",
    "importances = sorted(list(rf.feature_importances_),reverse=True)\n",
    "# List of tuples with variable and importance\n",
    "feature_importances = [(feature, round(importance, 2)) for feature, importance in zip(feature_list, importances)]\n",
    "# Sort the feature importances by most important first\n",
    "feature_importances = sorted(feature_importances, key = lambda x: x[1], reverse = True)\n",
    "# Print out the feature and importances \n",
    "[print('Variable: {:20} Importance: {}'.format(*pair)) for pair in feature_importances];\n",
    "\n",
    "import matplotlib.pyplot as plt\n",
    "%matplotlib inline\n",
    "plt.style.use('fivethirtyeight')\n",
    "# list of x locations for plotting\n",
    "x_values = list(range(len(importances)))\n",
    "# Make a bar chart\n",
    "plt.bar(x_values[:13], importances[:13], orientation = 'vertical')\n",
    "# Tick labels for x axis\n",
    "plt.xticks(x_values[:13], feature_list[:13], rotation='vertical')\n",
    "# Axis labels and title\n",
    "plt.ylabel('Importance'); plt.xlabel('Variables'); plt.title('Variable Importance');"
   ]
  },
  {
   "cell_type": "code",
   "execution_count": 330,
   "metadata": {},
   "outputs": [],
   "source": [
    "ident = np.arange(0,12915,1)"
   ]
  },
  {
   "cell_type": "code",
   "execution_count": 331,
   "metadata": {},
   "outputs": [
    {
     "name": "stdout",
     "output_type": "stream",
     "text": [
      "       key  true  prob\n",
      "6457  6457     1   1.0\n",
      "5739  5739     1   1.0\n",
      "5786  5786     1   1.0\n",
      "5811  5811     1   1.0\n",
      "5825  5825     1   1.0\n",
      "...    ...   ...   ...\n",
      "8221  8221     1   0.9\n",
      "8639  8639     1   0.9\n",
      "8652  8652     1   0.9\n",
      "7595  7595     1   0.9\n",
      "8781  8781     1   0.9\n",
      "\n",
      "[1291 rows x 3 columns]\n"
     ]
    }
   ],
   "source": [
    "\n",
    "\n",
    "default_prob = np.column_stack((ident,predictions_prob[:,1]))\n",
    "default_prob = pd.DataFrame(default_prob)\n",
    "default_prob.rename(columns={1:'prob'}, inplace=True)\n",
    "default_prob.rename(columns={0:'key'}, inplace=True)\n",
    "\n",
    "real_prob = np.column_stack((ident,y_test))\n",
    "real_prob = pd.DataFrame(real_prob)\n",
    "real_prob.rename(columns={1:'true'}, inplace=True)\n",
    "real_prob.rename(columns={0:'key'}, inplace=True)\n",
    "\n",
    "merged = pd.merge(real_prob, default_prob, on=['key'])\n",
    "\n",
    "merged_sorted = merged.sort_values(by=[\"prob\"],ascending=False)\n",
    "\n",
    "length = len(predictions_prob[:,1])\n",
    "ten_prct = int(0.1*length)\n",
    "score = merged_sorted[0:ten_prct]\n",
    "\n",
    "print(score)"
   ]
  },
  {
   "cell_type": "code",
   "execution_count": 332,
   "metadata": {},
   "outputs": [
    {
     "data": {
      "text/plain": [
       "0.9930286599535244"
      ]
     },
     "execution_count": 332,
     "metadata": {},
     "output_type": "execute_result"
    }
   ],
   "source": [
    "indice_10 = score[\"true\"].value_counts(1)\n",
    "indice_10[1]"
   ]
  },
  {
   "cell_type": "code",
   "execution_count": 333,
   "metadata": {},
   "outputs": [
    {
     "name": "stdout",
     "output_type": "stream",
     "text": [
      "0.9360812988709619\n"
     ]
    }
   ],
   "source": [
    "from sklearn.metrics import roc_auc_score\n",
    "AUC = roc_auc_score(y_test, predictions_prob[:,1])\n",
    "Gini =2*AUC-1\n",
    "print(Gini)"
   ]
  },
  {
   "cell_type": "code",
   "execution_count": null,
   "metadata": {},
   "outputs": [],
   "source": [
    "from sklearn.model_selection import RandomizedSearchCV\n",
    "# Number of trees in random forest\n",
    "n_estimators = [int(x) for x in np.linspace(start = 200, stop = 2000, num = 100)]\n",
    "# Number of features to consider at every split\n",
    "max_features = ['auto', 'sqrt']\n",
    "# Maximum number of levels in tree\n",
    "max_depth = [int(x) for x in np.linspace(10, 110, num = 11)]\n",
    "max_depth.append(None)\n",
    "# Minimum number of samples required to split a node\n",
    "min_samples_split = [2, 5, 10]\n",
    "# Minimum number of samples required at each leaf node\n",
    "min_samples_leaf = [1, 2, 4]\n",
    "# Method of selecting samples for training each tree\n",
    "bootstrap = [True, False]\n",
    "# Create the random grid\n",
    "\n",
    "random_grid = {'n_estimators': n_estimators,\n",
    "               'max_features': max_features,\n",
    "               'max_depth': max_depth,\n",
    "               'min_samples_split': min_samples_split,\n",
    "               'min_samples_leaf': min_samples_leaf,\n",
    "               'bootstrap': bootstrap}\n",
    "\n",
    "rf = RandomForestClassifier()\n",
    "rf_random = RandomizedSearchCV(estimator = rf,\n",
    "                               param_distributions = random_grid,\n",
    "                               n_iter = 100,\n",
    "                               cv = 3,\n",
    "                               verbose=2,\n",
    "                               random_state=1337,\n",
    "                               n_jobs = -1)\n",
    "rf_random.fit(X_train, X_label)"
   ]
  }
 ],
 "metadata": {
  "kernelspec": {
   "display_name": "Python 3",
   "language": "python",
   "name": "python3"
  },
  "language_info": {
   "codemirror_mode": {
    "name": "ipython",
    "version": 3
   },
   "file_extension": ".py",
   "mimetype": "text/x-python",
   "name": "python",
   "nbconvert_exporter": "python",
   "pygments_lexer": "ipython3",
   "version": "3.7.4"
  }
 },
 "nbformat": 4,
 "nbformat_minor": 2
}
